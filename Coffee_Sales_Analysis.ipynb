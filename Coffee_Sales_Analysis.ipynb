{
  "nbformat": 4,
  "nbformat_minor": 0,
  "metadata": {
    "colab": {
      "provenance": []
    },
    "kernelspec": {
      "name": "python3",
      "display_name": "Python 3"
    },
    "language_info": {
      "name": "python"
    }
  },
  "cells": [
    {
      "cell_type": "markdown",
      "source": [
        "#Coffee Shop Sales Analysis:-"
      ],
      "metadata": {
        "id": "EBwF39Wmlubp"
      }
    },
    {
      "cell_type": "markdown",
      "source": [
        "Importing Required Libraries :-"
      ],
      "metadata": {
        "id": "sHZbJBITlyZZ"
      }
    },
    {
      "cell_type": "code",
      "source": [
        "import pandas as pd\n",
        "import numpy as np\n",
        "import matplotlib.pyplot as plt\n",
        "import seaborn as sns\n",
        "print(\"Libraries Imported Successfully\")"
      ],
      "metadata": {
        "colab": {
          "base_uri": "https://localhost:8080/"
        },
        "id": "w43FmTjel-hT",
        "outputId": "54e0b7f0-3b7f-47c5-9105-059459da1c0d"
      },
      "execution_count": null,
      "outputs": [
        {
          "output_type": "stream",
          "name": "stdout",
          "text": [
            "Libraries Imported Successfully\n"
          ]
        }
      ]
    },
    {
      "cell_type": "markdown",
      "source": [
        "Importing the Sales Dataset :-"
      ],
      "metadata": {
        "id": "wlSblVcNmTNp"
      }
    },
    {
      "cell_type": "code",
      "source": [
        "coffee_df = pd.read_excel('/content/Coffee Shop Sales.xlsx')"
      ],
      "metadata": {
        "id": "Kyo1F5xMmRRe"
      },
      "execution_count": null,
      "outputs": []
    },
    {
      "cell_type": "markdown",
      "source": [
        "Displaying First 5 rows :-"
      ],
      "metadata": {
        "id": "zaSwUUufmrlo"
      }
    },
    {
      "cell_type": "code",
      "source": [
        "coffee_df.head()"
      ],
      "metadata": {
        "colab": {
          "base_uri": "https://localhost:8080/",
          "height": 313
        },
        "id": "CrfBgqLqmxwy",
        "outputId": "c46d1e5e-ba07-4019-95cc-ab60f4624ce3"
      },
      "execution_count": null,
      "outputs": [
        {
          "output_type": "execute_result",
          "data": {
            "text/plain": [
              "   transaction_id transaction_date transaction_time  transaction_qty  \\\n",
              "0               1       2023-01-01         07:06:11                2   \n",
              "1               2       2023-01-01         07:08:56                2   \n",
              "2               3       2023-01-01         07:14:04                2   \n",
              "3               4       2023-01-01         07:20:24                1   \n",
              "4               5       2023-01-01         07:22:41                2   \n",
              "\n",
              "   store_id   store_location  product_id  unit_price    product_category  \\\n",
              "0         5  Lower Manhattan          32         3.0              Coffee   \n",
              "1         5  Lower Manhattan          57         3.1                 Tea   \n",
              "2         5  Lower Manhattan          59         4.5  Drinking Chocolate   \n",
              "3         5  Lower Manhattan          22         2.0              Coffee   \n",
              "4         5  Lower Manhattan          57         3.1                 Tea   \n",
              "\n",
              "            product_type               product_detail  \n",
              "0  Gourmet brewed coffee                  Ethiopia Rg  \n",
              "1        Brewed Chai tea     Spicy Eye Opener Chai Lg  \n",
              "2          Hot chocolate            Dark chocolate Lg  \n",
              "3            Drip coffee  Our Old Time Diner Blend Sm  \n",
              "4        Brewed Chai tea     Spicy Eye Opener Chai Lg  "
            ],
            "text/html": [
              "\n",
              "  <div id=\"df-3ae726f9-1823-4809-bf6d-d077084db3e4\" class=\"colab-df-container\">\n",
              "    <div>\n",
              "<style scoped>\n",
              "    .dataframe tbody tr th:only-of-type {\n",
              "        vertical-align: middle;\n",
              "    }\n",
              "\n",
              "    .dataframe tbody tr th {\n",
              "        vertical-align: top;\n",
              "    }\n",
              "\n",
              "    .dataframe thead th {\n",
              "        text-align: right;\n",
              "    }\n",
              "</style>\n",
              "<table border=\"1\" class=\"dataframe\">\n",
              "  <thead>\n",
              "    <tr style=\"text-align: right;\">\n",
              "      <th></th>\n",
              "      <th>transaction_id</th>\n",
              "      <th>transaction_date</th>\n",
              "      <th>transaction_time</th>\n",
              "      <th>transaction_qty</th>\n",
              "      <th>store_id</th>\n",
              "      <th>store_location</th>\n",
              "      <th>product_id</th>\n",
              "      <th>unit_price</th>\n",
              "      <th>product_category</th>\n",
              "      <th>product_type</th>\n",
              "      <th>product_detail</th>\n",
              "    </tr>\n",
              "  </thead>\n",
              "  <tbody>\n",
              "    <tr>\n",
              "      <th>0</th>\n",
              "      <td>1</td>\n",
              "      <td>2023-01-01</td>\n",
              "      <td>07:06:11</td>\n",
              "      <td>2</td>\n",
              "      <td>5</td>\n",
              "      <td>Lower Manhattan</td>\n",
              "      <td>32</td>\n",
              "      <td>3.0</td>\n",
              "      <td>Coffee</td>\n",
              "      <td>Gourmet brewed coffee</td>\n",
              "      <td>Ethiopia Rg</td>\n",
              "    </tr>\n",
              "    <tr>\n",
              "      <th>1</th>\n",
              "      <td>2</td>\n",
              "      <td>2023-01-01</td>\n",
              "      <td>07:08:56</td>\n",
              "      <td>2</td>\n",
              "      <td>5</td>\n",
              "      <td>Lower Manhattan</td>\n",
              "      <td>57</td>\n",
              "      <td>3.1</td>\n",
              "      <td>Tea</td>\n",
              "      <td>Brewed Chai tea</td>\n",
              "      <td>Spicy Eye Opener Chai Lg</td>\n",
              "    </tr>\n",
              "    <tr>\n",
              "      <th>2</th>\n",
              "      <td>3</td>\n",
              "      <td>2023-01-01</td>\n",
              "      <td>07:14:04</td>\n",
              "      <td>2</td>\n",
              "      <td>5</td>\n",
              "      <td>Lower Manhattan</td>\n",
              "      <td>59</td>\n",
              "      <td>4.5</td>\n",
              "      <td>Drinking Chocolate</td>\n",
              "      <td>Hot chocolate</td>\n",
              "      <td>Dark chocolate Lg</td>\n",
              "    </tr>\n",
              "    <tr>\n",
              "      <th>3</th>\n",
              "      <td>4</td>\n",
              "      <td>2023-01-01</td>\n",
              "      <td>07:20:24</td>\n",
              "      <td>1</td>\n",
              "      <td>5</td>\n",
              "      <td>Lower Manhattan</td>\n",
              "      <td>22</td>\n",
              "      <td>2.0</td>\n",
              "      <td>Coffee</td>\n",
              "      <td>Drip coffee</td>\n",
              "      <td>Our Old Time Diner Blend Sm</td>\n",
              "    </tr>\n",
              "    <tr>\n",
              "      <th>4</th>\n",
              "      <td>5</td>\n",
              "      <td>2023-01-01</td>\n",
              "      <td>07:22:41</td>\n",
              "      <td>2</td>\n",
              "      <td>5</td>\n",
              "      <td>Lower Manhattan</td>\n",
              "      <td>57</td>\n",
              "      <td>3.1</td>\n",
              "      <td>Tea</td>\n",
              "      <td>Brewed Chai tea</td>\n",
              "      <td>Spicy Eye Opener Chai Lg</td>\n",
              "    </tr>\n",
              "  </tbody>\n",
              "</table>\n",
              "</div>\n",
              "    <div class=\"colab-df-buttons\">\n",
              "\n",
              "  <div class=\"colab-df-container\">\n",
              "    <button class=\"colab-df-convert\" onclick=\"convertToInteractive('df-3ae726f9-1823-4809-bf6d-d077084db3e4')\"\n",
              "            title=\"Convert this dataframe to an interactive table.\"\n",
              "            style=\"display:none;\">\n",
              "\n",
              "  <svg xmlns=\"http://www.w3.org/2000/svg\" height=\"24px\" viewBox=\"0 -960 960 960\">\n",
              "    <path d=\"M120-120v-720h720v720H120Zm60-500h600v-160H180v160Zm220 220h160v-160H400v160Zm0 220h160v-160H400v160ZM180-400h160v-160H180v160Zm440 0h160v-160H620v160ZM180-180h160v-160H180v160Zm440 0h160v-160H620v160Z\"/>\n",
              "  </svg>\n",
              "    </button>\n",
              "\n",
              "  <style>\n",
              "    .colab-df-container {\n",
              "      display:flex;\n",
              "      gap: 12px;\n",
              "    }\n",
              "\n",
              "    .colab-df-convert {\n",
              "      background-color: #E8F0FE;\n",
              "      border: none;\n",
              "      border-radius: 50%;\n",
              "      cursor: pointer;\n",
              "      display: none;\n",
              "      fill: #1967D2;\n",
              "      height: 32px;\n",
              "      padding: 0 0 0 0;\n",
              "      width: 32px;\n",
              "    }\n",
              "\n",
              "    .colab-df-convert:hover {\n",
              "      background-color: #E2EBFA;\n",
              "      box-shadow: 0px 1px 2px rgba(60, 64, 67, 0.3), 0px 1px 3px 1px rgba(60, 64, 67, 0.15);\n",
              "      fill: #174EA6;\n",
              "    }\n",
              "\n",
              "    .colab-df-buttons div {\n",
              "      margin-bottom: 4px;\n",
              "    }\n",
              "\n",
              "    [theme=dark] .colab-df-convert {\n",
              "      background-color: #3B4455;\n",
              "      fill: #D2E3FC;\n",
              "    }\n",
              "\n",
              "    [theme=dark] .colab-df-convert:hover {\n",
              "      background-color: #434B5C;\n",
              "      box-shadow: 0px 1px 3px 1px rgba(0, 0, 0, 0.15);\n",
              "      filter: drop-shadow(0px 1px 2px rgba(0, 0, 0, 0.3));\n",
              "      fill: #FFFFFF;\n",
              "    }\n",
              "  </style>\n",
              "\n",
              "    <script>\n",
              "      const buttonEl =\n",
              "        document.querySelector('#df-3ae726f9-1823-4809-bf6d-d077084db3e4 button.colab-df-convert');\n",
              "      buttonEl.style.display =\n",
              "        google.colab.kernel.accessAllowed ? 'block' : 'none';\n",
              "\n",
              "      async function convertToInteractive(key) {\n",
              "        const element = document.querySelector('#df-3ae726f9-1823-4809-bf6d-d077084db3e4');\n",
              "        const dataTable =\n",
              "          await google.colab.kernel.invokeFunction('convertToInteractive',\n",
              "                                                    [key], {});\n",
              "        if (!dataTable) return;\n",
              "\n",
              "        const docLinkHtml = 'Like what you see? Visit the ' +\n",
              "          '<a target=\"_blank\" href=https://colab.research.google.com/notebooks/data_table.ipynb>data table notebook</a>'\n",
              "          + ' to learn more about interactive tables.';\n",
              "        element.innerHTML = '';\n",
              "        dataTable['output_type'] = 'display_data';\n",
              "        await google.colab.output.renderOutput(dataTable, element);\n",
              "        const docLink = document.createElement('div');\n",
              "        docLink.innerHTML = docLinkHtml;\n",
              "        element.appendChild(docLink);\n",
              "      }\n",
              "    </script>\n",
              "  </div>\n",
              "\n",
              "\n",
              "    <div id=\"df-c0889fc7-68df-43c8-a0bb-72ed437ae77a\">\n",
              "      <button class=\"colab-df-quickchart\" onclick=\"quickchart('df-c0889fc7-68df-43c8-a0bb-72ed437ae77a')\"\n",
              "                title=\"Suggest charts\"\n",
              "                style=\"display:none;\">\n",
              "\n",
              "<svg xmlns=\"http://www.w3.org/2000/svg\" height=\"24px\"viewBox=\"0 0 24 24\"\n",
              "     width=\"24px\">\n",
              "    <g>\n",
              "        <path d=\"M19 3H5c-1.1 0-2 .9-2 2v14c0 1.1.9 2 2 2h14c1.1 0 2-.9 2-2V5c0-1.1-.9-2-2-2zM9 17H7v-7h2v7zm4 0h-2V7h2v10zm4 0h-2v-4h2v4z\"/>\n",
              "    </g>\n",
              "</svg>\n",
              "      </button>\n",
              "\n",
              "<style>\n",
              "  .colab-df-quickchart {\n",
              "      --bg-color: #E8F0FE;\n",
              "      --fill-color: #1967D2;\n",
              "      --hover-bg-color: #E2EBFA;\n",
              "      --hover-fill-color: #174EA6;\n",
              "      --disabled-fill-color: #AAA;\n",
              "      --disabled-bg-color: #DDD;\n",
              "  }\n",
              "\n",
              "  [theme=dark] .colab-df-quickchart {\n",
              "      --bg-color: #3B4455;\n",
              "      --fill-color: #D2E3FC;\n",
              "      --hover-bg-color: #434B5C;\n",
              "      --hover-fill-color: #FFFFFF;\n",
              "      --disabled-bg-color: #3B4455;\n",
              "      --disabled-fill-color: #666;\n",
              "  }\n",
              "\n",
              "  .colab-df-quickchart {\n",
              "    background-color: var(--bg-color);\n",
              "    border: none;\n",
              "    border-radius: 50%;\n",
              "    cursor: pointer;\n",
              "    display: none;\n",
              "    fill: var(--fill-color);\n",
              "    height: 32px;\n",
              "    padding: 0;\n",
              "    width: 32px;\n",
              "  }\n",
              "\n",
              "  .colab-df-quickchart:hover {\n",
              "    background-color: var(--hover-bg-color);\n",
              "    box-shadow: 0 1px 2px rgba(60, 64, 67, 0.3), 0 1px 3px 1px rgba(60, 64, 67, 0.15);\n",
              "    fill: var(--button-hover-fill-color);\n",
              "  }\n",
              "\n",
              "  .colab-df-quickchart-complete:disabled,\n",
              "  .colab-df-quickchart-complete:disabled:hover {\n",
              "    background-color: var(--disabled-bg-color);\n",
              "    fill: var(--disabled-fill-color);\n",
              "    box-shadow: none;\n",
              "  }\n",
              "\n",
              "  .colab-df-spinner {\n",
              "    border: 2px solid var(--fill-color);\n",
              "    border-color: transparent;\n",
              "    border-bottom-color: var(--fill-color);\n",
              "    animation:\n",
              "      spin 1s steps(1) infinite;\n",
              "  }\n",
              "\n",
              "  @keyframes spin {\n",
              "    0% {\n",
              "      border-color: transparent;\n",
              "      border-bottom-color: var(--fill-color);\n",
              "      border-left-color: var(--fill-color);\n",
              "    }\n",
              "    20% {\n",
              "      border-color: transparent;\n",
              "      border-left-color: var(--fill-color);\n",
              "      border-top-color: var(--fill-color);\n",
              "    }\n",
              "    30% {\n",
              "      border-color: transparent;\n",
              "      border-left-color: var(--fill-color);\n",
              "      border-top-color: var(--fill-color);\n",
              "      border-right-color: var(--fill-color);\n",
              "    }\n",
              "    40% {\n",
              "      border-color: transparent;\n",
              "      border-right-color: var(--fill-color);\n",
              "      border-top-color: var(--fill-color);\n",
              "    }\n",
              "    60% {\n",
              "      border-color: transparent;\n",
              "      border-right-color: var(--fill-color);\n",
              "    }\n",
              "    80% {\n",
              "      border-color: transparent;\n",
              "      border-right-color: var(--fill-color);\n",
              "      border-bottom-color: var(--fill-color);\n",
              "    }\n",
              "    90% {\n",
              "      border-color: transparent;\n",
              "      border-bottom-color: var(--fill-color);\n",
              "    }\n",
              "  }\n",
              "</style>\n",
              "\n",
              "      <script>\n",
              "        async function quickchart(key) {\n",
              "          const quickchartButtonEl =\n",
              "            document.querySelector('#' + key + ' button');\n",
              "          quickchartButtonEl.disabled = true;  // To prevent multiple clicks.\n",
              "          quickchartButtonEl.classList.add('colab-df-spinner');\n",
              "          try {\n",
              "            const charts = await google.colab.kernel.invokeFunction(\n",
              "                'suggestCharts', [key], {});\n",
              "          } catch (error) {\n",
              "            console.error('Error during call to suggestCharts:', error);\n",
              "          }\n",
              "          quickchartButtonEl.classList.remove('colab-df-spinner');\n",
              "          quickchartButtonEl.classList.add('colab-df-quickchart-complete');\n",
              "        }\n",
              "        (() => {\n",
              "          let quickchartButtonEl =\n",
              "            document.querySelector('#df-c0889fc7-68df-43c8-a0bb-72ed437ae77a button');\n",
              "          quickchartButtonEl.style.display =\n",
              "            google.colab.kernel.accessAllowed ? 'block' : 'none';\n",
              "        })();\n",
              "      </script>\n",
              "    </div>\n",
              "\n",
              "    </div>\n",
              "  </div>\n"
            ],
            "application/vnd.google.colaboratory.intrinsic+json": {
              "type": "dataframe",
              "variable_name": "coffee_df"
            }
          },
          "metadata": {},
          "execution_count": 81
        }
      ]
    },
    {
      "cell_type": "markdown",
      "source": [
        "Lets see some info about our dataset:-"
      ],
      "metadata": {
        "id": "xUH4jhZKnCTE"
      }
    },
    {
      "cell_type": "code",
      "source": [
        "coffee_df.info()"
      ],
      "metadata": {
        "colab": {
          "base_uri": "https://localhost:8080/"
        },
        "id": "FZjLTVnunHkV",
        "outputId": "116089b4-3b9e-42bc-a5c5-e7ef7271721f"
      },
      "execution_count": null,
      "outputs": [
        {
          "output_type": "stream",
          "name": "stdout",
          "text": [
            "<class 'pandas.core.frame.DataFrame'>\n",
            "RangeIndex: 149116 entries, 0 to 149115\n",
            "Data columns (total 11 columns):\n",
            " #   Column            Non-Null Count   Dtype         \n",
            "---  ------            --------------   -----         \n",
            " 0   transaction_id    149116 non-null  int64         \n",
            " 1   transaction_date  149116 non-null  datetime64[ns]\n",
            " 2   transaction_time  149116 non-null  object        \n",
            " 3   transaction_qty   149116 non-null  int64         \n",
            " 4   store_id          149116 non-null  int64         \n",
            " 5   store_location    149116 non-null  object        \n",
            " 6   product_id        149116 non-null  int64         \n",
            " 7   unit_price        149116 non-null  float64       \n",
            " 8   product_category  149116 non-null  object        \n",
            " 9   product_type      149116 non-null  object        \n",
            " 10  product_detail    149116 non-null  object        \n",
            "dtypes: datetime64[ns](1), float64(1), int64(4), object(5)\n",
            "memory usage: 12.5+ MB\n"
          ]
        }
      ]
    },
    {
      "cell_type": "markdown",
      "source": [
        "Checking For Null values in Dataset:-"
      ],
      "metadata": {
        "id": "c4vutU7lnVDM"
      }
    },
    {
      "cell_type": "code",
      "source": [
        "coffee_df.isnull().sum()"
      ],
      "metadata": {
        "colab": {
          "base_uri": "https://localhost:8080/",
          "height": 429
        },
        "id": "DyD5y4iJnVub",
        "outputId": "89627141-5849-43e3-e165-8d1614b8a018"
      },
      "execution_count": null,
      "outputs": [
        {
          "output_type": "execute_result",
          "data": {
            "text/plain": [
              "transaction_id      0\n",
              "transaction_date    0\n",
              "transaction_time    0\n",
              "transaction_qty     0\n",
              "store_id            0\n",
              "store_location      0\n",
              "product_id          0\n",
              "unit_price          0\n",
              "product_category    0\n",
              "product_type        0\n",
              "product_detail      0\n",
              "dtype: int64"
            ],
            "text/html": [
              "<div>\n",
              "<style scoped>\n",
              "    .dataframe tbody tr th:only-of-type {\n",
              "        vertical-align: middle;\n",
              "    }\n",
              "\n",
              "    .dataframe tbody tr th {\n",
              "        vertical-align: top;\n",
              "    }\n",
              "\n",
              "    .dataframe thead th {\n",
              "        text-align: right;\n",
              "    }\n",
              "</style>\n",
              "<table border=\"1\" class=\"dataframe\">\n",
              "  <thead>\n",
              "    <tr style=\"text-align: right;\">\n",
              "      <th></th>\n",
              "      <th>0</th>\n",
              "    </tr>\n",
              "  </thead>\n",
              "  <tbody>\n",
              "    <tr>\n",
              "      <th>transaction_id</th>\n",
              "      <td>0</td>\n",
              "    </tr>\n",
              "    <tr>\n",
              "      <th>transaction_date</th>\n",
              "      <td>0</td>\n",
              "    </tr>\n",
              "    <tr>\n",
              "      <th>transaction_time</th>\n",
              "      <td>0</td>\n",
              "    </tr>\n",
              "    <tr>\n",
              "      <th>transaction_qty</th>\n",
              "      <td>0</td>\n",
              "    </tr>\n",
              "    <tr>\n",
              "      <th>store_id</th>\n",
              "      <td>0</td>\n",
              "    </tr>\n",
              "    <tr>\n",
              "      <th>store_location</th>\n",
              "      <td>0</td>\n",
              "    </tr>\n",
              "    <tr>\n",
              "      <th>product_id</th>\n",
              "      <td>0</td>\n",
              "    </tr>\n",
              "    <tr>\n",
              "      <th>unit_price</th>\n",
              "      <td>0</td>\n",
              "    </tr>\n",
              "    <tr>\n",
              "      <th>product_category</th>\n",
              "      <td>0</td>\n",
              "    </tr>\n",
              "    <tr>\n",
              "      <th>product_type</th>\n",
              "      <td>0</td>\n",
              "    </tr>\n",
              "    <tr>\n",
              "      <th>product_detail</th>\n",
              "      <td>0</td>\n",
              "    </tr>\n",
              "  </tbody>\n",
              "</table>\n",
              "</div><br><label><b>dtype:</b> int64</label>"
            ]
          },
          "metadata": {},
          "execution_count": 83
        }
      ]
    },
    {
      "cell_type": "markdown",
      "source": [
        "Lets check some stats about our dataset:-"
      ],
      "metadata": {
        "id": "UuHadvoNnhpO"
      }
    },
    {
      "cell_type": "code",
      "source": [
        "coffee_df.describe()"
      ],
      "metadata": {
        "colab": {
          "base_uri": "https://localhost:8080/",
          "height": 300
        },
        "id": "SA5Lou2bniGc",
        "outputId": "320d8ec9-a520-4668-c331-9dbc4ac5f864"
      },
      "execution_count": null,
      "outputs": [
        {
          "output_type": "execute_result",
          "data": {
            "text/plain": [
              "       transaction_id               transaction_date  transaction_qty  \\\n",
              "count   149116.000000                         149116    149116.000000   \n",
              "mean     74737.371872  2023-04-15 11:50:32.173609984         1.438276   \n",
              "min          1.000000            2023-01-01 00:00:00         1.000000   \n",
              "25%      37335.750000            2023-03-06 00:00:00         1.000000   \n",
              "50%      74727.500000            2023-04-24 00:00:00         1.000000   \n",
              "75%     112094.250000            2023-05-30 00:00:00         2.000000   \n",
              "max     149456.000000            2023-06-30 00:00:00         8.000000   \n",
              "std      43153.600016                            NaN         0.542509   \n",
              "\n",
              "            store_id     product_id     unit_price  \n",
              "count  149116.000000  149116.000000  149116.000000  \n",
              "mean        5.342063      47.918607       3.382219  \n",
              "min         3.000000       1.000000       0.800000  \n",
              "25%         3.000000      33.000000       2.500000  \n",
              "50%         5.000000      47.000000       3.000000  \n",
              "75%         8.000000      60.000000       3.750000  \n",
              "max         8.000000      87.000000      45.000000  \n",
              "std         2.074241      17.930020       2.658723  "
            ],
            "text/html": [
              "\n",
              "  <div id=\"df-dd2895a5-f814-4c71-91f0-2f3534a091a7\" class=\"colab-df-container\">\n",
              "    <div>\n",
              "<style scoped>\n",
              "    .dataframe tbody tr th:only-of-type {\n",
              "        vertical-align: middle;\n",
              "    }\n",
              "\n",
              "    .dataframe tbody tr th {\n",
              "        vertical-align: top;\n",
              "    }\n",
              "\n",
              "    .dataframe thead th {\n",
              "        text-align: right;\n",
              "    }\n",
              "</style>\n",
              "<table border=\"1\" class=\"dataframe\">\n",
              "  <thead>\n",
              "    <tr style=\"text-align: right;\">\n",
              "      <th></th>\n",
              "      <th>transaction_id</th>\n",
              "      <th>transaction_date</th>\n",
              "      <th>transaction_qty</th>\n",
              "      <th>store_id</th>\n",
              "      <th>product_id</th>\n",
              "      <th>unit_price</th>\n",
              "    </tr>\n",
              "  </thead>\n",
              "  <tbody>\n",
              "    <tr>\n",
              "      <th>count</th>\n",
              "      <td>149116.000000</td>\n",
              "      <td>149116</td>\n",
              "      <td>149116.000000</td>\n",
              "      <td>149116.000000</td>\n",
              "      <td>149116.000000</td>\n",
              "      <td>149116.000000</td>\n",
              "    </tr>\n",
              "    <tr>\n",
              "      <th>mean</th>\n",
              "      <td>74737.371872</td>\n",
              "      <td>2023-04-15 11:50:32.173609984</td>\n",
              "      <td>1.438276</td>\n",
              "      <td>5.342063</td>\n",
              "      <td>47.918607</td>\n",
              "      <td>3.382219</td>\n",
              "    </tr>\n",
              "    <tr>\n",
              "      <th>min</th>\n",
              "      <td>1.000000</td>\n",
              "      <td>2023-01-01 00:00:00</td>\n",
              "      <td>1.000000</td>\n",
              "      <td>3.000000</td>\n",
              "      <td>1.000000</td>\n",
              "      <td>0.800000</td>\n",
              "    </tr>\n",
              "    <tr>\n",
              "      <th>25%</th>\n",
              "      <td>37335.750000</td>\n",
              "      <td>2023-03-06 00:00:00</td>\n",
              "      <td>1.000000</td>\n",
              "      <td>3.000000</td>\n",
              "      <td>33.000000</td>\n",
              "      <td>2.500000</td>\n",
              "    </tr>\n",
              "    <tr>\n",
              "      <th>50%</th>\n",
              "      <td>74727.500000</td>\n",
              "      <td>2023-04-24 00:00:00</td>\n",
              "      <td>1.000000</td>\n",
              "      <td>5.000000</td>\n",
              "      <td>47.000000</td>\n",
              "      <td>3.000000</td>\n",
              "    </tr>\n",
              "    <tr>\n",
              "      <th>75%</th>\n",
              "      <td>112094.250000</td>\n",
              "      <td>2023-05-30 00:00:00</td>\n",
              "      <td>2.000000</td>\n",
              "      <td>8.000000</td>\n",
              "      <td>60.000000</td>\n",
              "      <td>3.750000</td>\n",
              "    </tr>\n",
              "    <tr>\n",
              "      <th>max</th>\n",
              "      <td>149456.000000</td>\n",
              "      <td>2023-06-30 00:00:00</td>\n",
              "      <td>8.000000</td>\n",
              "      <td>8.000000</td>\n",
              "      <td>87.000000</td>\n",
              "      <td>45.000000</td>\n",
              "    </tr>\n",
              "    <tr>\n",
              "      <th>std</th>\n",
              "      <td>43153.600016</td>\n",
              "      <td>NaN</td>\n",
              "      <td>0.542509</td>\n",
              "      <td>2.074241</td>\n",
              "      <td>17.930020</td>\n",
              "      <td>2.658723</td>\n",
              "    </tr>\n",
              "  </tbody>\n",
              "</table>\n",
              "</div>\n",
              "    <div class=\"colab-df-buttons\">\n",
              "\n",
              "  <div class=\"colab-df-container\">\n",
              "    <button class=\"colab-df-convert\" onclick=\"convertToInteractive('df-dd2895a5-f814-4c71-91f0-2f3534a091a7')\"\n",
              "            title=\"Convert this dataframe to an interactive table.\"\n",
              "            style=\"display:none;\">\n",
              "\n",
              "  <svg xmlns=\"http://www.w3.org/2000/svg\" height=\"24px\" viewBox=\"0 -960 960 960\">\n",
              "    <path d=\"M120-120v-720h720v720H120Zm60-500h600v-160H180v160Zm220 220h160v-160H400v160Zm0 220h160v-160H400v160ZM180-400h160v-160H180v160Zm440 0h160v-160H620v160ZM180-180h160v-160H180v160Zm440 0h160v-160H620v160Z\"/>\n",
              "  </svg>\n",
              "    </button>\n",
              "\n",
              "  <style>\n",
              "    .colab-df-container {\n",
              "      display:flex;\n",
              "      gap: 12px;\n",
              "    }\n",
              "\n",
              "    .colab-df-convert {\n",
              "      background-color: #E8F0FE;\n",
              "      border: none;\n",
              "      border-radius: 50%;\n",
              "      cursor: pointer;\n",
              "      display: none;\n",
              "      fill: #1967D2;\n",
              "      height: 32px;\n",
              "      padding: 0 0 0 0;\n",
              "      width: 32px;\n",
              "    }\n",
              "\n",
              "    .colab-df-convert:hover {\n",
              "      background-color: #E2EBFA;\n",
              "      box-shadow: 0px 1px 2px rgba(60, 64, 67, 0.3), 0px 1px 3px 1px rgba(60, 64, 67, 0.15);\n",
              "      fill: #174EA6;\n",
              "    }\n",
              "\n",
              "    .colab-df-buttons div {\n",
              "      margin-bottom: 4px;\n",
              "    }\n",
              "\n",
              "    [theme=dark] .colab-df-convert {\n",
              "      background-color: #3B4455;\n",
              "      fill: #D2E3FC;\n",
              "    }\n",
              "\n",
              "    [theme=dark] .colab-df-convert:hover {\n",
              "      background-color: #434B5C;\n",
              "      box-shadow: 0px 1px 3px 1px rgba(0, 0, 0, 0.15);\n",
              "      filter: drop-shadow(0px 1px 2px rgba(0, 0, 0, 0.3));\n",
              "      fill: #FFFFFF;\n",
              "    }\n",
              "  </style>\n",
              "\n",
              "    <script>\n",
              "      const buttonEl =\n",
              "        document.querySelector('#df-dd2895a5-f814-4c71-91f0-2f3534a091a7 button.colab-df-convert');\n",
              "      buttonEl.style.display =\n",
              "        google.colab.kernel.accessAllowed ? 'block' : 'none';\n",
              "\n",
              "      async function convertToInteractive(key) {\n",
              "        const element = document.querySelector('#df-dd2895a5-f814-4c71-91f0-2f3534a091a7');\n",
              "        const dataTable =\n",
              "          await google.colab.kernel.invokeFunction('convertToInteractive',\n",
              "                                                    [key], {});\n",
              "        if (!dataTable) return;\n",
              "\n",
              "        const docLinkHtml = 'Like what you see? Visit the ' +\n",
              "          '<a target=\"_blank\" href=https://colab.research.google.com/notebooks/data_table.ipynb>data table notebook</a>'\n",
              "          + ' to learn more about interactive tables.';\n",
              "        element.innerHTML = '';\n",
              "        dataTable['output_type'] = 'display_data';\n",
              "        await google.colab.output.renderOutput(dataTable, element);\n",
              "        const docLink = document.createElement('div');\n",
              "        docLink.innerHTML = docLinkHtml;\n",
              "        element.appendChild(docLink);\n",
              "      }\n",
              "    </script>\n",
              "  </div>\n",
              "\n",
              "\n",
              "    <div id=\"df-967cd7dd-6bce-49d4-b3a4-e21c7f4ec873\">\n",
              "      <button class=\"colab-df-quickchart\" onclick=\"quickchart('df-967cd7dd-6bce-49d4-b3a4-e21c7f4ec873')\"\n",
              "                title=\"Suggest charts\"\n",
              "                style=\"display:none;\">\n",
              "\n",
              "<svg xmlns=\"http://www.w3.org/2000/svg\" height=\"24px\"viewBox=\"0 0 24 24\"\n",
              "     width=\"24px\">\n",
              "    <g>\n",
              "        <path d=\"M19 3H5c-1.1 0-2 .9-2 2v14c0 1.1.9 2 2 2h14c1.1 0 2-.9 2-2V5c0-1.1-.9-2-2-2zM9 17H7v-7h2v7zm4 0h-2V7h2v10zm4 0h-2v-4h2v4z\"/>\n",
              "    </g>\n",
              "</svg>\n",
              "      </button>\n",
              "\n",
              "<style>\n",
              "  .colab-df-quickchart {\n",
              "      --bg-color: #E8F0FE;\n",
              "      --fill-color: #1967D2;\n",
              "      --hover-bg-color: #E2EBFA;\n",
              "      --hover-fill-color: #174EA6;\n",
              "      --disabled-fill-color: #AAA;\n",
              "      --disabled-bg-color: #DDD;\n",
              "  }\n",
              "\n",
              "  [theme=dark] .colab-df-quickchart {\n",
              "      --bg-color: #3B4455;\n",
              "      --fill-color: #D2E3FC;\n",
              "      --hover-bg-color: #434B5C;\n",
              "      --hover-fill-color: #FFFFFF;\n",
              "      --disabled-bg-color: #3B4455;\n",
              "      --disabled-fill-color: #666;\n",
              "  }\n",
              "\n",
              "  .colab-df-quickchart {\n",
              "    background-color: var(--bg-color);\n",
              "    border: none;\n",
              "    border-radius: 50%;\n",
              "    cursor: pointer;\n",
              "    display: none;\n",
              "    fill: var(--fill-color);\n",
              "    height: 32px;\n",
              "    padding: 0;\n",
              "    width: 32px;\n",
              "  }\n",
              "\n",
              "  .colab-df-quickchart:hover {\n",
              "    background-color: var(--hover-bg-color);\n",
              "    box-shadow: 0 1px 2px rgba(60, 64, 67, 0.3), 0 1px 3px 1px rgba(60, 64, 67, 0.15);\n",
              "    fill: var(--button-hover-fill-color);\n",
              "  }\n",
              "\n",
              "  .colab-df-quickchart-complete:disabled,\n",
              "  .colab-df-quickchart-complete:disabled:hover {\n",
              "    background-color: var(--disabled-bg-color);\n",
              "    fill: var(--disabled-fill-color);\n",
              "    box-shadow: none;\n",
              "  }\n",
              "\n",
              "  .colab-df-spinner {\n",
              "    border: 2px solid var(--fill-color);\n",
              "    border-color: transparent;\n",
              "    border-bottom-color: var(--fill-color);\n",
              "    animation:\n",
              "      spin 1s steps(1) infinite;\n",
              "  }\n",
              "\n",
              "  @keyframes spin {\n",
              "    0% {\n",
              "      border-color: transparent;\n",
              "      border-bottom-color: var(--fill-color);\n",
              "      border-left-color: var(--fill-color);\n",
              "    }\n",
              "    20% {\n",
              "      border-color: transparent;\n",
              "      border-left-color: var(--fill-color);\n",
              "      border-top-color: var(--fill-color);\n",
              "    }\n",
              "    30% {\n",
              "      border-color: transparent;\n",
              "      border-left-color: var(--fill-color);\n",
              "      border-top-color: var(--fill-color);\n",
              "      border-right-color: var(--fill-color);\n",
              "    }\n",
              "    40% {\n",
              "      border-color: transparent;\n",
              "      border-right-color: var(--fill-color);\n",
              "      border-top-color: var(--fill-color);\n",
              "    }\n",
              "    60% {\n",
              "      border-color: transparent;\n",
              "      border-right-color: var(--fill-color);\n",
              "    }\n",
              "    80% {\n",
              "      border-color: transparent;\n",
              "      border-right-color: var(--fill-color);\n",
              "      border-bottom-color: var(--fill-color);\n",
              "    }\n",
              "    90% {\n",
              "      border-color: transparent;\n",
              "      border-bottom-color: var(--fill-color);\n",
              "    }\n",
              "  }\n",
              "</style>\n",
              "\n",
              "      <script>\n",
              "        async function quickchart(key) {\n",
              "          const quickchartButtonEl =\n",
              "            document.querySelector('#' + key + ' button');\n",
              "          quickchartButtonEl.disabled = true;  // To prevent multiple clicks.\n",
              "          quickchartButtonEl.classList.add('colab-df-spinner');\n",
              "          try {\n",
              "            const charts = await google.colab.kernel.invokeFunction(\n",
              "                'suggestCharts', [key], {});\n",
              "          } catch (error) {\n",
              "            console.error('Error during call to suggestCharts:', error);\n",
              "          }\n",
              "          quickchartButtonEl.classList.remove('colab-df-spinner');\n",
              "          quickchartButtonEl.classList.add('colab-df-quickchart-complete');\n",
              "        }\n",
              "        (() => {\n",
              "          let quickchartButtonEl =\n",
              "            document.querySelector('#df-967cd7dd-6bce-49d4-b3a4-e21c7f4ec873 button');\n",
              "          quickchartButtonEl.style.display =\n",
              "            google.colab.kernel.accessAllowed ? 'block' : 'none';\n",
              "        })();\n",
              "      </script>\n",
              "    </div>\n",
              "\n",
              "    </div>\n",
              "  </div>\n"
            ],
            "application/vnd.google.colaboratory.intrinsic+json": {
              "type": "dataframe",
              "summary": "{\n  \"name\": \"coffee_df\",\n  \"rows\": 8,\n  \"fields\": [\n    {\n      \"column\": \"transaction_id\",\n      \"properties\": {\n        \"dtype\": \"number\",\n        \"std\": 53804.38103320851,\n        \"min\": 1.0,\n        \"max\": 149456.0,\n        \"num_unique_values\": 8,\n        \"samples\": [\n          74737.37187156308,\n          112094.25,\n          149116.0\n        ],\n        \"semantic_type\": \"\",\n        \"description\": \"\"\n      }\n    },\n    {\n      \"column\": \"transaction_date\",\n      \"properties\": {\n        \"dtype\": \"date\",\n        \"min\": \"1970-01-01 00:00:00.000149116\",\n        \"max\": \"2023-06-30 00:00:00\",\n        \"num_unique_values\": 7,\n        \"samples\": [\n          \"149116\",\n          \"2023-04-15 11:50:32.173609984\",\n          \"2023-05-30 00:00:00\"\n        ],\n        \"semantic_type\": \"\",\n        \"description\": \"\"\n      }\n    },\n    {\n      \"column\": \"transaction_qty\",\n      \"properties\": {\n        \"dtype\": \"number\",\n        \"std\": 52719.710803761496,\n        \"min\": 0.542508764737336,\n        \"max\": 149116.0,\n        \"num_unique_values\": 6,\n        \"samples\": [\n          149116.0,\n          1.438276241315486,\n          0.542508764737336\n        ],\n        \"semantic_type\": \"\",\n        \"description\": \"\"\n      }\n    },\n    {\n      \"column\": \"store_id\",\n      \"properties\": {\n        \"dtype\": \"number\",\n        \"std\": 52718.72915281471,\n        \"min\": 2.0742405915711952,\n        \"max\": 149116.0,\n        \"num_unique_values\": 6,\n        \"samples\": [\n          149116.0,\n          5.342062555326055,\n          2.0742405915711952\n        ],\n        \"semantic_type\": \"\",\n        \"description\": \"\"\n      }\n    },\n    {\n      \"column\": \"product_id\",\n      \"properties\": {\n        \"dtype\": \"number\",\n        \"std\": 52705.63223268152,\n        \"min\": 1.0,\n        \"max\": 149116.0,\n        \"num_unique_values\": 8,\n        \"samples\": [\n          47.91860699053086,\n          60.0,\n          149116.0\n        ],\n        \"semantic_type\": \"\",\n        \"description\": \"\"\n      }\n    },\n    {\n      \"column\": \"unit_price\",\n      \"properties\": {\n        \"dtype\": \"number\",\n        \"std\": 52717.38392018855,\n        \"min\": 0.8,\n        \"max\": 149116.0,\n        \"num_unique_values\": 8,\n        \"samples\": [\n          3.382219413074385,\n          3.75,\n          149116.0\n        ],\n        \"semantic_type\": \"\",\n        \"description\": \"\"\n      }\n    }\n  ]\n}"
            }
          },
          "metadata": {},
          "execution_count": 84
        }
      ]
    },
    {
      "cell_type": "markdown",
      "source": [
        "Checking All types of product sold by Coffee Shop:-"
      ],
      "metadata": {
        "id": "eG2wv89xqiDV"
      }
    },
    {
      "cell_type": "code",
      "source": [
        "coffee_df['product_category'].unique()"
      ],
      "metadata": {
        "colab": {
          "base_uri": "https://localhost:8080/"
        },
        "id": "EwVldzOMpzfZ",
        "outputId": "d17e585f-5917-46e4-8bd1-33d8e4349106"
      },
      "execution_count": null,
      "outputs": [
        {
          "output_type": "execute_result",
          "data": {
            "text/plain": [
              "array(['Coffee', 'Tea', 'Drinking Chocolate', 'Bakery', 'Flavours',\n",
              "       'Loose Tea', 'Coffee beans', 'Packaged Chocolate', 'Branded'],\n",
              "      dtype=object)"
            ]
          },
          "metadata": {},
          "execution_count": 85
        }
      ]
    },
    {
      "cell_type": "markdown",
      "source": [
        "Calculating a new column for 'Total_cost' :-"
      ],
      "metadata": {
        "id": "b5g1G0k0rH8h"
      }
    },
    {
      "cell_type": "code",
      "source": [
        "coffee_df['Total_Sales'] = coffee_df['transaction_qty'] * coffee_df['unit_price']"
      ],
      "metadata": {
        "id": "hP4WtAXwr18R"
      },
      "execution_count": null,
      "outputs": []
    },
    {
      "cell_type": "code",
      "source": [
        "coffee_df.head()"
      ],
      "metadata": {
        "colab": {
          "base_uri": "https://localhost:8080/",
          "height": 313
        },
        "id": "m9aC1U2_sdJe",
        "outputId": "953e4c79-2cb9-400c-b3fb-c881f2d7cb96"
      },
      "execution_count": null,
      "outputs": [
        {
          "output_type": "execute_result",
          "data": {
            "text/plain": [
              "   transaction_id transaction_date transaction_time  transaction_qty  \\\n",
              "0               1       2023-01-01         07:06:11                2   \n",
              "1               2       2023-01-01         07:08:56                2   \n",
              "2               3       2023-01-01         07:14:04                2   \n",
              "3               4       2023-01-01         07:20:24                1   \n",
              "4               5       2023-01-01         07:22:41                2   \n",
              "\n",
              "   store_id   store_location  product_id  unit_price    product_category  \\\n",
              "0         5  Lower Manhattan          32         3.0              Coffee   \n",
              "1         5  Lower Manhattan          57         3.1                 Tea   \n",
              "2         5  Lower Manhattan          59         4.5  Drinking Chocolate   \n",
              "3         5  Lower Manhattan          22         2.0              Coffee   \n",
              "4         5  Lower Manhattan          57         3.1                 Tea   \n",
              "\n",
              "            product_type               product_detail  Total_Sales  \n",
              "0  Gourmet brewed coffee                  Ethiopia Rg          6.0  \n",
              "1        Brewed Chai tea     Spicy Eye Opener Chai Lg          6.2  \n",
              "2          Hot chocolate            Dark chocolate Lg          9.0  \n",
              "3            Drip coffee  Our Old Time Diner Blend Sm          2.0  \n",
              "4        Brewed Chai tea     Spicy Eye Opener Chai Lg          6.2  "
            ],
            "text/html": [
              "\n",
              "  <div id=\"df-412dc097-bb5d-4532-bb85-0163eb933fed\" class=\"colab-df-container\">\n",
              "    <div>\n",
              "<style scoped>\n",
              "    .dataframe tbody tr th:only-of-type {\n",
              "        vertical-align: middle;\n",
              "    }\n",
              "\n",
              "    .dataframe tbody tr th {\n",
              "        vertical-align: top;\n",
              "    }\n",
              "\n",
              "    .dataframe thead th {\n",
              "        text-align: right;\n",
              "    }\n",
              "</style>\n",
              "<table border=\"1\" class=\"dataframe\">\n",
              "  <thead>\n",
              "    <tr style=\"text-align: right;\">\n",
              "      <th></th>\n",
              "      <th>transaction_id</th>\n",
              "      <th>transaction_date</th>\n",
              "      <th>transaction_time</th>\n",
              "      <th>transaction_qty</th>\n",
              "      <th>store_id</th>\n",
              "      <th>store_location</th>\n",
              "      <th>product_id</th>\n",
              "      <th>unit_price</th>\n",
              "      <th>product_category</th>\n",
              "      <th>product_type</th>\n",
              "      <th>product_detail</th>\n",
              "      <th>Total_Sales</th>\n",
              "    </tr>\n",
              "  </thead>\n",
              "  <tbody>\n",
              "    <tr>\n",
              "      <th>0</th>\n",
              "      <td>1</td>\n",
              "      <td>2023-01-01</td>\n",
              "      <td>07:06:11</td>\n",
              "      <td>2</td>\n",
              "      <td>5</td>\n",
              "      <td>Lower Manhattan</td>\n",
              "      <td>32</td>\n",
              "      <td>3.0</td>\n",
              "      <td>Coffee</td>\n",
              "      <td>Gourmet brewed coffee</td>\n",
              "      <td>Ethiopia Rg</td>\n",
              "      <td>6.0</td>\n",
              "    </tr>\n",
              "    <tr>\n",
              "      <th>1</th>\n",
              "      <td>2</td>\n",
              "      <td>2023-01-01</td>\n",
              "      <td>07:08:56</td>\n",
              "      <td>2</td>\n",
              "      <td>5</td>\n",
              "      <td>Lower Manhattan</td>\n",
              "      <td>57</td>\n",
              "      <td>3.1</td>\n",
              "      <td>Tea</td>\n",
              "      <td>Brewed Chai tea</td>\n",
              "      <td>Spicy Eye Opener Chai Lg</td>\n",
              "      <td>6.2</td>\n",
              "    </tr>\n",
              "    <tr>\n",
              "      <th>2</th>\n",
              "      <td>3</td>\n",
              "      <td>2023-01-01</td>\n",
              "      <td>07:14:04</td>\n",
              "      <td>2</td>\n",
              "      <td>5</td>\n",
              "      <td>Lower Manhattan</td>\n",
              "      <td>59</td>\n",
              "      <td>4.5</td>\n",
              "      <td>Drinking Chocolate</td>\n",
              "      <td>Hot chocolate</td>\n",
              "      <td>Dark chocolate Lg</td>\n",
              "      <td>9.0</td>\n",
              "    </tr>\n",
              "    <tr>\n",
              "      <th>3</th>\n",
              "      <td>4</td>\n",
              "      <td>2023-01-01</td>\n",
              "      <td>07:20:24</td>\n",
              "      <td>1</td>\n",
              "      <td>5</td>\n",
              "      <td>Lower Manhattan</td>\n",
              "      <td>22</td>\n",
              "      <td>2.0</td>\n",
              "      <td>Coffee</td>\n",
              "      <td>Drip coffee</td>\n",
              "      <td>Our Old Time Diner Blend Sm</td>\n",
              "      <td>2.0</td>\n",
              "    </tr>\n",
              "    <tr>\n",
              "      <th>4</th>\n",
              "      <td>5</td>\n",
              "      <td>2023-01-01</td>\n",
              "      <td>07:22:41</td>\n",
              "      <td>2</td>\n",
              "      <td>5</td>\n",
              "      <td>Lower Manhattan</td>\n",
              "      <td>57</td>\n",
              "      <td>3.1</td>\n",
              "      <td>Tea</td>\n",
              "      <td>Brewed Chai tea</td>\n",
              "      <td>Spicy Eye Opener Chai Lg</td>\n",
              "      <td>6.2</td>\n",
              "    </tr>\n",
              "  </tbody>\n",
              "</table>\n",
              "</div>\n",
              "    <div class=\"colab-df-buttons\">\n",
              "\n",
              "  <div class=\"colab-df-container\">\n",
              "    <button class=\"colab-df-convert\" onclick=\"convertToInteractive('df-412dc097-bb5d-4532-bb85-0163eb933fed')\"\n",
              "            title=\"Convert this dataframe to an interactive table.\"\n",
              "            style=\"display:none;\">\n",
              "\n",
              "  <svg xmlns=\"http://www.w3.org/2000/svg\" height=\"24px\" viewBox=\"0 -960 960 960\">\n",
              "    <path d=\"M120-120v-720h720v720H120Zm60-500h600v-160H180v160Zm220 220h160v-160H400v160Zm0 220h160v-160H400v160ZM180-400h160v-160H180v160Zm440 0h160v-160H620v160ZM180-180h160v-160H180v160Zm440 0h160v-160H620v160Z\"/>\n",
              "  </svg>\n",
              "    </button>\n",
              "\n",
              "  <style>\n",
              "    .colab-df-container {\n",
              "      display:flex;\n",
              "      gap: 12px;\n",
              "    }\n",
              "\n",
              "    .colab-df-convert {\n",
              "      background-color: #E8F0FE;\n",
              "      border: none;\n",
              "      border-radius: 50%;\n",
              "      cursor: pointer;\n",
              "      display: none;\n",
              "      fill: #1967D2;\n",
              "      height: 32px;\n",
              "      padding: 0 0 0 0;\n",
              "      width: 32px;\n",
              "    }\n",
              "\n",
              "    .colab-df-convert:hover {\n",
              "      background-color: #E2EBFA;\n",
              "      box-shadow: 0px 1px 2px rgba(60, 64, 67, 0.3), 0px 1px 3px 1px rgba(60, 64, 67, 0.15);\n",
              "      fill: #174EA6;\n",
              "    }\n",
              "\n",
              "    .colab-df-buttons div {\n",
              "      margin-bottom: 4px;\n",
              "    }\n",
              "\n",
              "    [theme=dark] .colab-df-convert {\n",
              "      background-color: #3B4455;\n",
              "      fill: #D2E3FC;\n",
              "    }\n",
              "\n",
              "    [theme=dark] .colab-df-convert:hover {\n",
              "      background-color: #434B5C;\n",
              "      box-shadow: 0px 1px 3px 1px rgba(0, 0, 0, 0.15);\n",
              "      filter: drop-shadow(0px 1px 2px rgba(0, 0, 0, 0.3));\n",
              "      fill: #FFFFFF;\n",
              "    }\n",
              "  </style>\n",
              "\n",
              "    <script>\n",
              "      const buttonEl =\n",
              "        document.querySelector('#df-412dc097-bb5d-4532-bb85-0163eb933fed button.colab-df-convert');\n",
              "      buttonEl.style.display =\n",
              "        google.colab.kernel.accessAllowed ? 'block' : 'none';\n",
              "\n",
              "      async function convertToInteractive(key) {\n",
              "        const element = document.querySelector('#df-412dc097-bb5d-4532-bb85-0163eb933fed');\n",
              "        const dataTable =\n",
              "          await google.colab.kernel.invokeFunction('convertToInteractive',\n",
              "                                                    [key], {});\n",
              "        if (!dataTable) return;\n",
              "\n",
              "        const docLinkHtml = 'Like what you see? Visit the ' +\n",
              "          '<a target=\"_blank\" href=https://colab.research.google.com/notebooks/data_table.ipynb>data table notebook</a>'\n",
              "          + ' to learn more about interactive tables.';\n",
              "        element.innerHTML = '';\n",
              "        dataTable['output_type'] = 'display_data';\n",
              "        await google.colab.output.renderOutput(dataTable, element);\n",
              "        const docLink = document.createElement('div');\n",
              "        docLink.innerHTML = docLinkHtml;\n",
              "        element.appendChild(docLink);\n",
              "      }\n",
              "    </script>\n",
              "  </div>\n",
              "\n",
              "\n",
              "    <div id=\"df-74f6aeed-c867-4d3e-918f-f896b23ef282\">\n",
              "      <button class=\"colab-df-quickchart\" onclick=\"quickchart('df-74f6aeed-c867-4d3e-918f-f896b23ef282')\"\n",
              "                title=\"Suggest charts\"\n",
              "                style=\"display:none;\">\n",
              "\n",
              "<svg xmlns=\"http://www.w3.org/2000/svg\" height=\"24px\"viewBox=\"0 0 24 24\"\n",
              "     width=\"24px\">\n",
              "    <g>\n",
              "        <path d=\"M19 3H5c-1.1 0-2 .9-2 2v14c0 1.1.9 2 2 2h14c1.1 0 2-.9 2-2V5c0-1.1-.9-2-2-2zM9 17H7v-7h2v7zm4 0h-2V7h2v10zm4 0h-2v-4h2v4z\"/>\n",
              "    </g>\n",
              "</svg>\n",
              "      </button>\n",
              "\n",
              "<style>\n",
              "  .colab-df-quickchart {\n",
              "      --bg-color: #E8F0FE;\n",
              "      --fill-color: #1967D2;\n",
              "      --hover-bg-color: #E2EBFA;\n",
              "      --hover-fill-color: #174EA6;\n",
              "      --disabled-fill-color: #AAA;\n",
              "      --disabled-bg-color: #DDD;\n",
              "  }\n",
              "\n",
              "  [theme=dark] .colab-df-quickchart {\n",
              "      --bg-color: #3B4455;\n",
              "      --fill-color: #D2E3FC;\n",
              "      --hover-bg-color: #434B5C;\n",
              "      --hover-fill-color: #FFFFFF;\n",
              "      --disabled-bg-color: #3B4455;\n",
              "      --disabled-fill-color: #666;\n",
              "  }\n",
              "\n",
              "  .colab-df-quickchart {\n",
              "    background-color: var(--bg-color);\n",
              "    border: none;\n",
              "    border-radius: 50%;\n",
              "    cursor: pointer;\n",
              "    display: none;\n",
              "    fill: var(--fill-color);\n",
              "    height: 32px;\n",
              "    padding: 0;\n",
              "    width: 32px;\n",
              "  }\n",
              "\n",
              "  .colab-df-quickchart:hover {\n",
              "    background-color: var(--hover-bg-color);\n",
              "    box-shadow: 0 1px 2px rgba(60, 64, 67, 0.3), 0 1px 3px 1px rgba(60, 64, 67, 0.15);\n",
              "    fill: var(--button-hover-fill-color);\n",
              "  }\n",
              "\n",
              "  .colab-df-quickchart-complete:disabled,\n",
              "  .colab-df-quickchart-complete:disabled:hover {\n",
              "    background-color: var(--disabled-bg-color);\n",
              "    fill: var(--disabled-fill-color);\n",
              "    box-shadow: none;\n",
              "  }\n",
              "\n",
              "  .colab-df-spinner {\n",
              "    border: 2px solid var(--fill-color);\n",
              "    border-color: transparent;\n",
              "    border-bottom-color: var(--fill-color);\n",
              "    animation:\n",
              "      spin 1s steps(1) infinite;\n",
              "  }\n",
              "\n",
              "  @keyframes spin {\n",
              "    0% {\n",
              "      border-color: transparent;\n",
              "      border-bottom-color: var(--fill-color);\n",
              "      border-left-color: var(--fill-color);\n",
              "    }\n",
              "    20% {\n",
              "      border-color: transparent;\n",
              "      border-left-color: var(--fill-color);\n",
              "      border-top-color: var(--fill-color);\n",
              "    }\n",
              "    30% {\n",
              "      border-color: transparent;\n",
              "      border-left-color: var(--fill-color);\n",
              "      border-top-color: var(--fill-color);\n",
              "      border-right-color: var(--fill-color);\n",
              "    }\n",
              "    40% {\n",
              "      border-color: transparent;\n",
              "      border-right-color: var(--fill-color);\n",
              "      border-top-color: var(--fill-color);\n",
              "    }\n",
              "    60% {\n",
              "      border-color: transparent;\n",
              "      border-right-color: var(--fill-color);\n",
              "    }\n",
              "    80% {\n",
              "      border-color: transparent;\n",
              "      border-right-color: var(--fill-color);\n",
              "      border-bottom-color: var(--fill-color);\n",
              "    }\n",
              "    90% {\n",
              "      border-color: transparent;\n",
              "      border-bottom-color: var(--fill-color);\n",
              "    }\n",
              "  }\n",
              "</style>\n",
              "\n",
              "      <script>\n",
              "        async function quickchart(key) {\n",
              "          const quickchartButtonEl =\n",
              "            document.querySelector('#' + key + ' button');\n",
              "          quickchartButtonEl.disabled = true;  // To prevent multiple clicks.\n",
              "          quickchartButtonEl.classList.add('colab-df-spinner');\n",
              "          try {\n",
              "            const charts = await google.colab.kernel.invokeFunction(\n",
              "                'suggestCharts', [key], {});\n",
              "          } catch (error) {\n",
              "            console.error('Error during call to suggestCharts:', error);\n",
              "          }\n",
              "          quickchartButtonEl.classList.remove('colab-df-spinner');\n",
              "          quickchartButtonEl.classList.add('colab-df-quickchart-complete');\n",
              "        }\n",
              "        (() => {\n",
              "          let quickchartButtonEl =\n",
              "            document.querySelector('#df-74f6aeed-c867-4d3e-918f-f896b23ef282 button');\n",
              "          quickchartButtonEl.style.display =\n",
              "            google.colab.kernel.accessAllowed ? 'block' : 'none';\n",
              "        })();\n",
              "      </script>\n",
              "    </div>\n",
              "\n",
              "    </div>\n",
              "  </div>\n"
            ],
            "application/vnd.google.colaboratory.intrinsic+json": {
              "type": "dataframe",
              "variable_name": "coffee_df"
            }
          },
          "metadata": {},
          "execution_count": 87
        }
      ]
    },
    {
      "cell_type": "markdown",
      "source": [
        "Creating Transaction_timestamp Column :-"
      ],
      "metadata": {
        "id": "GjtEJBbKIXDC"
      }
    },
    {
      "cell_type": "code",
      "source": [
        "\"\"\"creating 'transaction_timestamp' by combining transaction_date and transaction_time\"\"\"\n",
        "coffee_df['transaction_timestamp'] = coffee_df['transaction_date'].astype(str) + ' ' + coffee_df['transaction_time'].astype(str)"
      ],
      "metadata": {
        "id": "otrZo9CzIapG"
      },
      "execution_count": null,
      "outputs": []
    },
    {
      "cell_type": "code",
      "source": [
        "coffee_df['transaction_timestamp'] = pd.to_datetime(coffee_df['transaction_timestamp'])"
      ],
      "metadata": {
        "id": "Z7uC2OMjJ--J"
      },
      "execution_count": null,
      "outputs": []
    },
    {
      "cell_type": "markdown",
      "source": [
        "Creating transaction_month column :-"
      ],
      "metadata": {
        "id": "8SSE0S3qKeIu"
      }
    },
    {
      "cell_type": "code",
      "source": [
        "coffee_df['transaction_month'] = coffee_df['transaction_date'].dt.month"
      ],
      "metadata": {
        "id": "Gvxj50WKKjFW"
      },
      "execution_count": null,
      "outputs": []
    },
    {
      "cell_type": "markdown",
      "source": [
        "Creating transaction_month_name column :-"
      ],
      "metadata": {
        "id": "0M0J-wuWK32Z"
      }
    },
    {
      "cell_type": "code",
      "source": [
        "coffee_df['transaction_month_name'] = coffee_df['transaction_date'].dt.month_name()"
      ],
      "metadata": {
        "id": "VbxhQIzkK9wb"
      },
      "execution_count": null,
      "outputs": []
    },
    {
      "cell_type": "markdown",
      "source": [
        "Creating transaction_day column:-"
      ],
      "metadata": {
        "id": "BEflKPC2LaJI"
      }
    },
    {
      "cell_type": "code",
      "source": [
        "coffee_df['day_of_week'] = coffee_df['transaction_date'].dt.day_of_week"
      ],
      "metadata": {
        "id": "f7w8KHstLZag"
      },
      "execution_count": null,
      "outputs": []
    },
    {
      "cell_type": "markdown",
      "source": [
        "Creating transaction_dayname column :-"
      ],
      "metadata": {
        "id": "g6QbMZC3M8NF"
      }
    },
    {
      "cell_type": "code",
      "source": [
        "coffee_df['day'] = coffee_df['transaction_date'].dt.day_name()"
      ],
      "metadata": {
        "id": "N5BUMf7wM8zF"
      },
      "execution_count": null,
      "outputs": []
    },
    {
      "cell_type": "markdown",
      "source": [
        "Creating transaction_hour column :-"
      ],
      "metadata": {
        "id": "bX-CirzgQKz6"
      }
    },
    {
      "cell_type": "code",
      "source": [
        "coffee_df['transaction_time'] = pd.to_datetime(coffee_df['transaction_time'], format = '%H:%M:%S')\n"
      ],
      "metadata": {
        "id": "JCjb7jdrObpr"
      },
      "execution_count": null,
      "outputs": []
    },
    {
      "cell_type": "code",
      "source": [
        "coffee_df['transaction_hour'] = coffee_df['transaction_time'].dt.hour"
      ],
      "metadata": {
        "id": "HL_zNBjKP-jp"
      },
      "execution_count": null,
      "outputs": []
    },
    {
      "cell_type": "markdown",
      "source": [
        "#Key Insights :-"
      ],
      "metadata": {
        "id": "z7SV6SQISKNa"
      }
    },
    {
      "cell_type": "markdown",
      "source": [
        "1- check earliest transaction date:"
      ],
      "metadata": {
        "id": "iStjCUhrSNi3"
      }
    },
    {
      "cell_type": "code",
      "source": [
        "coffee_df['transaction_timestamp'].min()"
      ],
      "metadata": {
        "colab": {
          "base_uri": "https://localhost:8080/"
        },
        "id": "M-xoCRioSaT3",
        "outputId": "e753284a-0b6f-4bb3-f692-64124f47b24f"
      },
      "execution_count": null,
      "outputs": [
        {
          "output_type": "execute_result",
          "data": {
            "text/plain": [
              "Timestamp('2023-01-01 07:06:11')"
            ]
          },
          "metadata": {},
          "execution_count": 96
        }
      ]
    },
    {
      "cell_type": "markdown",
      "source": [
        "2- check latest transaction date:"
      ],
      "metadata": {
        "id": "3UT0aODaSlC-"
      }
    },
    {
      "cell_type": "code",
      "source": [
        "coffee_df['transaction_timestamp'].max()"
      ],
      "metadata": {
        "colab": {
          "base_uri": "https://localhost:8080/"
        },
        "id": "OAmxgLb0SoiH",
        "outputId": "f3373f85-dcf6-41dd-9b24-ab5e60cd4e33"
      },
      "execution_count": null,
      "outputs": [
        {
          "output_type": "execute_result",
          "data": {
            "text/plain": [
              "Timestamp('2023-06-30 20:57:19')"
            ]
          },
          "metadata": {},
          "execution_count": 97
        }
      ]
    },
    {
      "cell_type": "markdown",
      "source": [
        "2- check unique transaction hours:"
      ],
      "metadata": {
        "id": "xi1BMrsrSu7F"
      }
    },
    {
      "cell_type": "code",
      "source": [
        "coffee_df['transaction_hour'].value_counts().sort_index(ascending = True)"
      ],
      "metadata": {
        "colab": {
          "base_uri": "https://localhost:8080/",
          "height": 585
        },
        "id": "ySJC7bOBSz-u",
        "outputId": "ba7bb59e-a95e-49a4-a959-4876c262e785"
      },
      "execution_count": null,
      "outputs": [
        {
          "output_type": "execute_result",
          "data": {
            "text/plain": [
              "transaction_hour\n",
              "6      4594\n",
              "7     13428\n",
              "8     17654\n",
              "9     17764\n",
              "10    18545\n",
              "11     9766\n",
              "12     8708\n",
              "13     8714\n",
              "14     8933\n",
              "15     8979\n",
              "16     9093\n",
              "17     8745\n",
              "18     7498\n",
              "19     6092\n",
              "20      603\n",
              "Name: count, dtype: int64"
            ],
            "text/html": [
              "<div>\n",
              "<style scoped>\n",
              "    .dataframe tbody tr th:only-of-type {\n",
              "        vertical-align: middle;\n",
              "    }\n",
              "\n",
              "    .dataframe tbody tr th {\n",
              "        vertical-align: top;\n",
              "    }\n",
              "\n",
              "    .dataframe thead th {\n",
              "        text-align: right;\n",
              "    }\n",
              "</style>\n",
              "<table border=\"1\" class=\"dataframe\">\n",
              "  <thead>\n",
              "    <tr style=\"text-align: right;\">\n",
              "      <th></th>\n",
              "      <th>count</th>\n",
              "    </tr>\n",
              "    <tr>\n",
              "      <th>transaction_hour</th>\n",
              "      <th></th>\n",
              "    </tr>\n",
              "  </thead>\n",
              "  <tbody>\n",
              "    <tr>\n",
              "      <th>6</th>\n",
              "      <td>4594</td>\n",
              "    </tr>\n",
              "    <tr>\n",
              "      <th>7</th>\n",
              "      <td>13428</td>\n",
              "    </tr>\n",
              "    <tr>\n",
              "      <th>8</th>\n",
              "      <td>17654</td>\n",
              "    </tr>\n",
              "    <tr>\n",
              "      <th>9</th>\n",
              "      <td>17764</td>\n",
              "    </tr>\n",
              "    <tr>\n",
              "      <th>10</th>\n",
              "      <td>18545</td>\n",
              "    </tr>\n",
              "    <tr>\n",
              "      <th>11</th>\n",
              "      <td>9766</td>\n",
              "    </tr>\n",
              "    <tr>\n",
              "      <th>12</th>\n",
              "      <td>8708</td>\n",
              "    </tr>\n",
              "    <tr>\n",
              "      <th>13</th>\n",
              "      <td>8714</td>\n",
              "    </tr>\n",
              "    <tr>\n",
              "      <th>14</th>\n",
              "      <td>8933</td>\n",
              "    </tr>\n",
              "    <tr>\n",
              "      <th>15</th>\n",
              "      <td>8979</td>\n",
              "    </tr>\n",
              "    <tr>\n",
              "      <th>16</th>\n",
              "      <td>9093</td>\n",
              "    </tr>\n",
              "    <tr>\n",
              "      <th>17</th>\n",
              "      <td>8745</td>\n",
              "    </tr>\n",
              "    <tr>\n",
              "      <th>18</th>\n",
              "      <td>7498</td>\n",
              "    </tr>\n",
              "    <tr>\n",
              "      <th>19</th>\n",
              "      <td>6092</td>\n",
              "    </tr>\n",
              "    <tr>\n",
              "      <th>20</th>\n",
              "      <td>603</td>\n",
              "    </tr>\n",
              "  </tbody>\n",
              "</table>\n",
              "</div><br><label><b>dtype:</b> int64</label>"
            ]
          },
          "metadata": {},
          "execution_count": 98
        }
      ]
    },
    {
      "cell_type": "markdown",
      "source": [
        "2- check unique transaction quantities:"
      ],
      "metadata": {
        "id": "KnGKeZcSXDnw"
      }
    },
    {
      "cell_type": "code",
      "source": [
        "coffee_df['transaction_qty'].value_counts().sort_index(ascending = True)"
      ],
      "metadata": {
        "colab": {
          "base_uri": "https://localhost:8080/",
          "height": 303
        },
        "id": "F7GAX_ULXIuS",
        "outputId": "eab37229-a3dc-47e9-8728-69667b54fc7f"
      },
      "execution_count": null,
      "outputs": [
        {
          "output_type": "execute_result",
          "data": {
            "text/plain": [
              "transaction_qty\n",
              "1    87159\n",
              "2    58642\n",
              "3     3279\n",
              "4       23\n",
              "6        3\n",
              "8       10\n",
              "Name: count, dtype: int64"
            ],
            "text/html": [
              "<div>\n",
              "<style scoped>\n",
              "    .dataframe tbody tr th:only-of-type {\n",
              "        vertical-align: middle;\n",
              "    }\n",
              "\n",
              "    .dataframe tbody tr th {\n",
              "        vertical-align: top;\n",
              "    }\n",
              "\n",
              "    .dataframe thead th {\n",
              "        text-align: right;\n",
              "    }\n",
              "</style>\n",
              "<table border=\"1\" class=\"dataframe\">\n",
              "  <thead>\n",
              "    <tr style=\"text-align: right;\">\n",
              "      <th></th>\n",
              "      <th>count</th>\n",
              "    </tr>\n",
              "    <tr>\n",
              "      <th>transaction_qty</th>\n",
              "      <th></th>\n",
              "    </tr>\n",
              "  </thead>\n",
              "  <tbody>\n",
              "    <tr>\n",
              "      <th>1</th>\n",
              "      <td>87159</td>\n",
              "    </tr>\n",
              "    <tr>\n",
              "      <th>2</th>\n",
              "      <td>58642</td>\n",
              "    </tr>\n",
              "    <tr>\n",
              "      <th>3</th>\n",
              "      <td>3279</td>\n",
              "    </tr>\n",
              "    <tr>\n",
              "      <th>4</th>\n",
              "      <td>23</td>\n",
              "    </tr>\n",
              "    <tr>\n",
              "      <th>6</th>\n",
              "      <td>3</td>\n",
              "    </tr>\n",
              "    <tr>\n",
              "      <th>8</th>\n",
              "      <td>10</td>\n",
              "    </tr>\n",
              "  </tbody>\n",
              "</table>\n",
              "</div><br><label><b>dtype:</b> int64</label>"
            ]
          },
          "metadata": {},
          "execution_count": 99
        }
      ]
    },
    {
      "cell_type": "markdown",
      "source": [
        "2- check number of stores and their locations:-"
      ],
      "metadata": {
        "id": "bdbut-q6XwN1"
      }
    },
    {
      "cell_type": "code",
      "source": [
        "coffee_df['store_id'].nunique()"
      ],
      "metadata": {
        "colab": {
          "base_uri": "https://localhost:8080/"
        },
        "id": "82YTDtqXX3k-",
        "outputId": "bbe8b827-d2e1-4eed-c04f-f71a52b1b5df"
      },
      "execution_count": null,
      "outputs": [
        {
          "output_type": "execute_result",
          "data": {
            "text/plain": [
              "3"
            ]
          },
          "metadata": {},
          "execution_count": 100
        }
      ]
    },
    {
      "cell_type": "code",
      "source": [
        "coffee_df['store_location'].unique()"
      ],
      "metadata": {
        "colab": {
          "base_uri": "https://localhost:8080/"
        },
        "id": "bpMUv2MwYIHU",
        "outputId": "a600a701-42e8-4518-95bd-f4eb53358d01"
      },
      "execution_count": null,
      "outputs": [
        {
          "output_type": "execute_result",
          "data": {
            "text/plain": [
              "array(['Lower Manhattan', \"Hell's Kitchen\", 'Astoria'], dtype=object)"
            ]
          },
          "metadata": {},
          "execution_count": 101
        }
      ]
    },
    {
      "cell_type": "markdown",
      "source": [
        "2- check number of unique product categories:-"
      ],
      "metadata": {
        "id": "z1b5rfOpYNpq"
      }
    },
    {
      "cell_type": "code",
      "source": [
        "coffee_df['product_category'].nunique()"
      ],
      "metadata": {
        "colab": {
          "base_uri": "https://localhost:8080/"
        },
        "id": "YzHrjy98YVpD",
        "outputId": "9d08f52b-19ab-430e-f15a-7d4ca7014a41"
      },
      "execution_count": null,
      "outputs": [
        {
          "output_type": "execute_result",
          "data": {
            "text/plain": [
              "9"
            ]
          },
          "metadata": {},
          "execution_count": 102
        }
      ]
    },
    {
      "cell_type": "code",
      "source": [
        "coffee_df['product_category'].unique()"
      ],
      "metadata": {
        "colab": {
          "base_uri": "https://localhost:8080/"
        },
        "id": "fnvhHx3gYdlU",
        "outputId": "e8b5039c-a339-4989-96f6-7f3272f98bc4"
      },
      "execution_count": null,
      "outputs": [
        {
          "output_type": "execute_result",
          "data": {
            "text/plain": [
              "array(['Coffee', 'Tea', 'Drinking Chocolate', 'Bakery', 'Flavours',\n",
              "       'Loose Tea', 'Coffee beans', 'Packaged Chocolate', 'Branded'],\n",
              "      dtype=object)"
            ]
          },
          "metadata": {},
          "execution_count": 103
        }
      ]
    },
    {
      "cell_type": "markdown",
      "source": [
        "#Data Analysis"
      ],
      "metadata": {
        "id": "P2KzpeyYZXuk"
      }
    },
    {
      "cell_type": "markdown",
      "source": [
        "#Calculating KPI's"
      ],
      "metadata": {
        "id": "r80Hsyh8ZcaD"
      }
    },
    {
      "cell_type": "markdown",
      "source": [
        "1- Total Orders"
      ],
      "metadata": {
        "id": "1dPqfrnaZgJ9"
      }
    },
    {
      "cell_type": "code",
      "source": [
        "total_order = coffee_df['transaction_id'].count()\n",
        "print(total_order)"
      ],
      "metadata": {
        "colab": {
          "base_uri": "https://localhost:8080/"
        },
        "id": "hnEeOLYFZkdV",
        "outputId": "84dc1909-cc3a-4356-a91b-12ae0e791d1f"
      },
      "execution_count": null,
      "outputs": [
        {
          "output_type": "stream",
          "name": "stdout",
          "text": [
            "149116\n"
          ]
        }
      ]
    },
    {
      "cell_type": "markdown",
      "source": [
        "2- Total Quantity Sold"
      ],
      "metadata": {
        "id": "NxixSxvkZ4Qk"
      }
    },
    {
      "cell_type": "code",
      "source": [
        "total_quantity_sold = coffee_df['transaction_qty'].sum()\n",
        "print(total_quantity_sold)"
      ],
      "metadata": {
        "colab": {
          "base_uri": "https://localhost:8080/"
        },
        "id": "XDb8OiooZ6Yu",
        "outputId": "2acda83e-d956-4531-f5e8-474110a3e857"
      },
      "execution_count": null,
      "outputs": [
        {
          "output_type": "stream",
          "name": "stdout",
          "text": [
            "214470\n"
          ]
        }
      ]
    },
    {
      "cell_type": "markdown",
      "source": [
        "3- Number of Working Days"
      ],
      "metadata": {
        "id": "7H1ZIWEmaxD9"
      }
    },
    {
      "cell_type": "code",
      "source": [
        "no_of_days = (coffee_df['transaction_date'].max() - coffee_df['transaction_date'].min()).days\n",
        "print(no_of_days)"
      ],
      "metadata": {
        "colab": {
          "base_uri": "https://localhost:8080/"
        },
        "id": "oqLUkeMba2F5",
        "outputId": "5f74687b-7d89-4899-e814-17e0768a421c"
      },
      "execution_count": null,
      "outputs": [
        {
          "output_type": "stream",
          "name": "stdout",
          "text": [
            "180\n"
          ]
        }
      ]
    },
    {
      "cell_type": "markdown",
      "source": [
        "4- Average Order Per Day"
      ],
      "metadata": {
        "id": "vfCX1avRbQQQ"
      }
    },
    {
      "cell_type": "code",
      "source": [
        "avg_order_per_day = total_order / no_of_days\n",
        "print(avg_order_per_day)"
      ],
      "metadata": {
        "colab": {
          "base_uri": "https://localhost:8080/"
        },
        "id": "GPLYLLGebU1n",
        "outputId": "0d7bc946-0d26-49b0-ff90-72006ce2eb2f"
      },
      "execution_count": null,
      "outputs": [
        {
          "output_type": "stream",
          "name": "stdout",
          "text": [
            "828.4222222222222\n"
          ]
        }
      ]
    },
    {
      "cell_type": "markdown",
      "source": [
        "5- Total Revenue"
      ],
      "metadata": {
        "id": "LnNkrw81ceRF"
      }
    },
    {
      "cell_type": "code",
      "source": [
        "total_revenue = coffee_df['Total_Sales'].sum()\n",
        "print(total_revenue)"
      ],
      "metadata": {
        "colab": {
          "base_uri": "https://localhost:8080/"
        },
        "id": "21wYEC_gchk-",
        "outputId": "f0a211e7-752d-4d3f-b3d0-57fb12285f9d"
      },
      "execution_count": null,
      "outputs": [
        {
          "output_type": "stream",
          "name": "stdout",
          "text": [
            "698812.3300000002\n"
          ]
        }
      ]
    },
    {
      "cell_type": "markdown",
      "source": [
        "6- Average Order Value (AOV)"
      ],
      "metadata": {
        "id": "xwmVQ4rncpox"
      }
    },
    {
      "cell_type": "code",
      "source": [
        "aov = total_revenue / total_order\n",
        "print(aov)"
      ],
      "metadata": {
        "colab": {
          "base_uri": "https://localhost:8080/"
        },
        "id": "bGnlnX6Hcwnj",
        "outputId": "0600370c-6e13-412f-a3e5-f9b89c7afa51"
      },
      "execution_count": null,
      "outputs": [
        {
          "output_type": "stream",
          "name": "stdout",
          "text": [
            "4.686367190643527\n"
          ]
        }
      ]
    },
    {
      "cell_type": "markdown",
      "source": [
        "#Order Analysis"
      ],
      "metadata": {
        "id": "nVJTchKtgiM1"
      }
    },
    {
      "cell_type": "markdown",
      "source": [
        "1- Hourly Orders"
      ],
      "metadata": {
        "id": "-iNjkp4dgka7"
      }
    },
    {
      "cell_type": "code",
      "source": [
        "hourly_orders = coffee_df.groupby(['transaction_hour'], as_index= False).agg(total_orders= ('transaction_id', 'count'))"
      ],
      "metadata": {
        "id": "0gM2hQ6vgoXn"
      },
      "execution_count": null,
      "outputs": []
    },
    {
      "cell_type": "code",
      "source": [
        "hourly_orders_table = hourly_orders.style.background_gradient(\n",
        "    subset=['total_orders'],  cmap='hot' )"
      ],
      "metadata": {
        "id": "qFAAm45bhfPp"
      },
      "execution_count": null,
      "outputs": []
    },
    {
      "cell_type": "code",
      "source": [
        "hourly_orders_table"
      ],
      "metadata": {
        "colab": {
          "base_uri": "https://localhost:8080/",
          "height": 519
        },
        "id": "aTIBtQKrZLYg",
        "outputId": "16e32aea-9b58-45ae-c568-25b493c778ae"
      },
      "execution_count": null,
      "outputs": [
        {
          "output_type": "execute_result",
          "data": {
            "text/plain": [
              "<pandas.io.formats.style.Styler at 0x79a79670f950>"
            ],
            "text/html": [
              "<style type=\"text/css\">\n",
              "#T_d647c_row0_col1 {\n",
              "  background-color: #9e0000;\n",
              "  color: #f1f1f1;\n",
              "}\n",
              "#T_d647c_row1_col1 {\n",
              "  background-color: #ffe900;\n",
              "  color: #000000;\n",
              "}\n",
              "#T_d647c_row2_col1 {\n",
              "  background-color: #ffffd0;\n",
              "  color: #000000;\n",
              "}\n",
              "#T_d647c_row3_col1 {\n",
              "  background-color: #ffffd4;\n",
              "  color: #000000;\n",
              "}\n",
              "#T_d647c_row4_col1 {\n",
              "  background-color: #ffffff;\n",
              "  color: #000000;\n",
              "}\n",
              "#T_d647c_row5_col1 {\n",
              "  background-color: #ff6100;\n",
              "  color: #f1f1f1;\n",
              "}\n",
              "#T_d647c_row6_col1, #T_d647c_row7_col1 {\n",
              "  background-color: #ff3a00;\n",
              "  color: #f1f1f1;\n",
              "}\n",
              "#T_d647c_row8_col1 {\n",
              "  background-color: #ff4100;\n",
              "  color: #f1f1f1;\n",
              "}\n",
              "#T_d647c_row9_col1 {\n",
              "  background-color: #ff4400;\n",
              "  color: #f1f1f1;\n",
              "}\n",
              "#T_d647c_row10_col1 {\n",
              "  background-color: #ff4900;\n",
              "  color: #f1f1f1;\n",
              "}\n",
              "#T_d647c_row11_col1 {\n",
              "  background-color: #ff3c00;\n",
              "  color: #f1f1f1;\n",
              "}\n",
              "#T_d647c_row12_col1 {\n",
              "  background-color: #ff0d00;\n",
              "  color: #f1f1f1;\n",
              "}\n",
              "#T_d647c_row13_col1 {\n",
              "  background-color: #d70000;\n",
              "  color: #f1f1f1;\n",
              "}\n",
              "#T_d647c_row14_col1 {\n",
              "  background-color: #0b0000;\n",
              "  color: #f1f1f1;\n",
              "}\n",
              "</style>\n",
              "<table id=\"T_d647c\" class=\"dataframe\">\n",
              "  <thead>\n",
              "    <tr>\n",
              "      <th class=\"blank level0\" >&nbsp;</th>\n",
              "      <th id=\"T_d647c_level0_col0\" class=\"col_heading level0 col0\" >transaction_hour</th>\n",
              "      <th id=\"T_d647c_level0_col1\" class=\"col_heading level0 col1\" >total_orders</th>\n",
              "    </tr>\n",
              "  </thead>\n",
              "  <tbody>\n",
              "    <tr>\n",
              "      <th id=\"T_d647c_level0_row0\" class=\"row_heading level0 row0\" >0</th>\n",
              "      <td id=\"T_d647c_row0_col0\" class=\"data row0 col0\" >6</td>\n",
              "      <td id=\"T_d647c_row0_col1\" class=\"data row0 col1\" >4594</td>\n",
              "    </tr>\n",
              "    <tr>\n",
              "      <th id=\"T_d647c_level0_row1\" class=\"row_heading level0 row1\" >1</th>\n",
              "      <td id=\"T_d647c_row1_col0\" class=\"data row1 col0\" >7</td>\n",
              "      <td id=\"T_d647c_row1_col1\" class=\"data row1 col1\" >13428</td>\n",
              "    </tr>\n",
              "    <tr>\n",
              "      <th id=\"T_d647c_level0_row2\" class=\"row_heading level0 row2\" >2</th>\n",
              "      <td id=\"T_d647c_row2_col0\" class=\"data row2 col0\" >8</td>\n",
              "      <td id=\"T_d647c_row2_col1\" class=\"data row2 col1\" >17654</td>\n",
              "    </tr>\n",
              "    <tr>\n",
              "      <th id=\"T_d647c_level0_row3\" class=\"row_heading level0 row3\" >3</th>\n",
              "      <td id=\"T_d647c_row3_col0\" class=\"data row3 col0\" >9</td>\n",
              "      <td id=\"T_d647c_row3_col1\" class=\"data row3 col1\" >17764</td>\n",
              "    </tr>\n",
              "    <tr>\n",
              "      <th id=\"T_d647c_level0_row4\" class=\"row_heading level0 row4\" >4</th>\n",
              "      <td id=\"T_d647c_row4_col0\" class=\"data row4 col0\" >10</td>\n",
              "      <td id=\"T_d647c_row4_col1\" class=\"data row4 col1\" >18545</td>\n",
              "    </tr>\n",
              "    <tr>\n",
              "      <th id=\"T_d647c_level0_row5\" class=\"row_heading level0 row5\" >5</th>\n",
              "      <td id=\"T_d647c_row5_col0\" class=\"data row5 col0\" >11</td>\n",
              "      <td id=\"T_d647c_row5_col1\" class=\"data row5 col1\" >9766</td>\n",
              "    </tr>\n",
              "    <tr>\n",
              "      <th id=\"T_d647c_level0_row6\" class=\"row_heading level0 row6\" >6</th>\n",
              "      <td id=\"T_d647c_row6_col0\" class=\"data row6 col0\" >12</td>\n",
              "      <td id=\"T_d647c_row6_col1\" class=\"data row6 col1\" >8708</td>\n",
              "    </tr>\n",
              "    <tr>\n",
              "      <th id=\"T_d647c_level0_row7\" class=\"row_heading level0 row7\" >7</th>\n",
              "      <td id=\"T_d647c_row7_col0\" class=\"data row7 col0\" >13</td>\n",
              "      <td id=\"T_d647c_row7_col1\" class=\"data row7 col1\" >8714</td>\n",
              "    </tr>\n",
              "    <tr>\n",
              "      <th id=\"T_d647c_level0_row8\" class=\"row_heading level0 row8\" >8</th>\n",
              "      <td id=\"T_d647c_row8_col0\" class=\"data row8 col0\" >14</td>\n",
              "      <td id=\"T_d647c_row8_col1\" class=\"data row8 col1\" >8933</td>\n",
              "    </tr>\n",
              "    <tr>\n",
              "      <th id=\"T_d647c_level0_row9\" class=\"row_heading level0 row9\" >9</th>\n",
              "      <td id=\"T_d647c_row9_col0\" class=\"data row9 col0\" >15</td>\n",
              "      <td id=\"T_d647c_row9_col1\" class=\"data row9 col1\" >8979</td>\n",
              "    </tr>\n",
              "    <tr>\n",
              "      <th id=\"T_d647c_level0_row10\" class=\"row_heading level0 row10\" >10</th>\n",
              "      <td id=\"T_d647c_row10_col0\" class=\"data row10 col0\" >16</td>\n",
              "      <td id=\"T_d647c_row10_col1\" class=\"data row10 col1\" >9093</td>\n",
              "    </tr>\n",
              "    <tr>\n",
              "      <th id=\"T_d647c_level0_row11\" class=\"row_heading level0 row11\" >11</th>\n",
              "      <td id=\"T_d647c_row11_col0\" class=\"data row11 col0\" >17</td>\n",
              "      <td id=\"T_d647c_row11_col1\" class=\"data row11 col1\" >8745</td>\n",
              "    </tr>\n",
              "    <tr>\n",
              "      <th id=\"T_d647c_level0_row12\" class=\"row_heading level0 row12\" >12</th>\n",
              "      <td id=\"T_d647c_row12_col0\" class=\"data row12 col0\" >18</td>\n",
              "      <td id=\"T_d647c_row12_col1\" class=\"data row12 col1\" >7498</td>\n",
              "    </tr>\n",
              "    <tr>\n",
              "      <th id=\"T_d647c_level0_row13\" class=\"row_heading level0 row13\" >13</th>\n",
              "      <td id=\"T_d647c_row13_col0\" class=\"data row13 col0\" >19</td>\n",
              "      <td id=\"T_d647c_row13_col1\" class=\"data row13 col1\" >6092</td>\n",
              "    </tr>\n",
              "    <tr>\n",
              "      <th id=\"T_d647c_level0_row14\" class=\"row_heading level0 row14\" >14</th>\n",
              "      <td id=\"T_d647c_row14_col0\" class=\"data row14 col0\" >20</td>\n",
              "      <td id=\"T_d647c_row14_col1\" class=\"data row14 col1\" >603</td>\n",
              "    </tr>\n",
              "  </tbody>\n",
              "</table>\n"
            ]
          },
          "metadata": {},
          "execution_count": 112
        }
      ]
    },
    {
      "cell_type": "code",
      "source": [
        "fig, ax = plt.subplots(figsize= [10,3])\n",
        "ax.bar(x= hourly_orders['transaction_hour'].astype('str'), height = hourly_orders['total_orders'], color = \"violet\")\n",
        "ax.set_xlabel('Transaction Hour')\n",
        "ax.set_ylabel('Total Orders')\n",
        "ax.set_title('Hourly Orders')\n",
        "ax.spines[['top', 'right', 'left']].set_visible(False)\n",
        "\n",
        "\n",
        "plt.show()"
      ],
      "metadata": {
        "colab": {
          "base_uri": "https://localhost:8080/",
          "height": 333
        },
        "id": "mNzO8SH3h31I",
        "outputId": "7ef49745-9dcc-4b57-912b-791fe5853662"
      },
      "execution_count": null,
      "outputs": [
        {
          "output_type": "display_data",
          "data": {
            "text/plain": [
              "<Figure size 1000x300 with 1 Axes>"
            ],
            "image/png": "[encoded data removed]"
          },
          "metadata": {}
        }
      ]
    },
    {
      "cell_type": "markdown",
      "source": [
        "2- Order by Day of the Week and Hour:-"
      ],
      "metadata": {
        "id": "8cdnxtJXmV1_"
      }
    },
    {
      "cell_type": "code",
      "source": [
        "day_hour_orders = coffee_df.pivot_table(\n",
        "    index='day_of_week',\n",
        "    columns='transaction_hour',\n",
        "    values='transaction_id',\n",
        "    aggfunc='count'\n",
        ")\n"
      ],
      "metadata": {
        "id": "kLsBKuEAmbkQ"
      },
      "execution_count": null,
      "outputs": []
    },
    {
      "cell_type": "code",
      "source": [
        "day_hour_orders.style.background_gradient(cmap='YlGnBu')"
      ],
      "metadata": {
        "colab": {
          "base_uri": "https://localhost:8080/",
          "height": 300
        },
        "id": "dskGekn4Y_hQ",
        "outputId": "db301b20-1fdd-4b1d-deb0-776f7abee9f4"
      },
      "execution_count": null,
      "outputs": [
        {
          "output_type": "execute_result",
          "data": {
            "text/plain": [
              "<pandas.io.formats.style.Styler at 0x79a797b09370>"
            ],
            "text/html": [
              "<style type=\"text/css\">\n",
              "#T_0b566_row0_col0 {\n",
              "  background-color: #206eb0;\n",
              "  color: #f1f1f1;\n",
              "}\n",
              "#T_0b566_row0_col1, #T_0b566_row0_col5, #T_0b566_row0_col6, #T_0b566_row0_col8, #T_0b566_row1_col2, #T_0b566_row1_col3, #T_0b566_row1_col4, #T_0b566_row1_col14, #T_0b566_row3_col0, #T_0b566_row3_col7, #T_0b566_row3_col9, #T_0b566_row3_col10, #T_0b566_row3_col11, #T_0b566_row3_col13, #T_0b566_row4_col12 {\n",
              "  background-color: #081d58;\n",
              "  color: #f1f1f1;\n",
              "}\n",
              "#T_0b566_row0_col2 {\n",
              "  background-color: #cbebb4;\n",
              "  color: #000000;\n",
              "}\n",
              "#T_0b566_row0_col3 {\n",
              "  background-color: #85cfba;\n",
              "  color: #000000;\n",
              "}\n",
              "#T_0b566_row0_col4, #T_0b566_row6_col5 {\n",
              "  background-color: #d5efb3;\n",
              "  color: #000000;\n",
              "}\n",
              "#T_0b566_row0_col7, #T_0b566_row4_col9 {\n",
              "  background-color: #2073b2;\n",
              "  color: #f1f1f1;\n",
              "}\n",
              "#T_0b566_row0_col9, #T_0b566_row3_col5 {\n",
              "  background-color: #12256d;\n",
              "  color: #f1f1f1;\n",
              "}\n",
              "#T_0b566_row0_col10 {\n",
              "  background-color: #216bae;\n",
              "  color: #f1f1f1;\n",
              "}\n",
              "#T_0b566_row0_col11 {\n",
              "  background-color: #172978;\n",
              "  color: #f1f1f1;\n",
              "}\n",
              "#T_0b566_row0_col12 {\n",
              "  background-color: #1d90c0;\n",
              "  color: #f1f1f1;\n",
              "}\n",
              "#T_0b566_row0_col13, #T_0b566_row5_col13 {\n",
              "  background-color: #f4fbc1;\n",
              "  color: #000000;\n",
              "}\n",
              "#T_0b566_row0_col14 {\n",
              "  background-color: #dff2b2;\n",
              "  color: #000000;\n",
              "}\n",
              "#T_0b566_row1_col0, #T_0b566_row1_col1, #T_0b566_row1_col5, #T_0b566_row1_col6, #T_0b566_row1_col7, #T_0b566_row1_col8, #T_0b566_row1_col10, #T_0b566_row1_col12, #T_0b566_row2_col13, #T_0b566_row3_col2, #T_0b566_row3_col14, #T_0b566_row5_col3, #T_0b566_row5_col4, #T_0b566_row5_col11, #T_0b566_row6_col9, #T_0b566_row6_col13 {\n",
              "  background-color: #ffffd9;\n",
              "  color: #000000;\n",
              "}\n",
              "#T_0b566_row1_col9, #T_0b566_row2_col10, #T_0b566_row4_col14 {\n",
              "  background-color: #c6e9b4;\n",
              "  color: #000000;\n",
              "}\n",
              "#T_0b566_row1_col11 {\n",
              "  background-color: #71c8bd;\n",
              "  color: #000000;\n",
              "}\n",
              "#T_0b566_row1_col13 {\n",
              "  background-color: #bde5b5;\n",
              "  color: #000000;\n",
              "}\n",
              "#T_0b566_row2_col0 {\n",
              "  background-color: #253795;\n",
              "  color: #f1f1f1;\n",
              "}\n",
              "#T_0b566_row2_col1 {\n",
              "  background-color: #dbf1b2;\n",
              "  color: #000000;\n",
              "}\n",
              "#T_0b566_row2_col2 {\n",
              "  background-color: #7acbbc;\n",
              "  color: #000000;\n",
              "}\n",
              "#T_0b566_row2_col3 {\n",
              "  background-color: #5bc0c0;\n",
              "  color: #000000;\n",
              "}\n",
              "#T_0b566_row2_col4 {\n",
              "  background-color: #e5f5b2;\n",
              "  color: #000000;\n",
              "}\n",
              "#T_0b566_row2_col5 {\n",
              "  background-color: #152772;\n",
              "  color: #f1f1f1;\n",
              "}\n",
              "#T_0b566_row2_col6 {\n",
              "  background-color: #33a7c2;\n",
              "  color: #f1f1f1;\n",
              "}\n",
              "#T_0b566_row2_col7 {\n",
              "  background-color: #102369;\n",
              "  color: #f1f1f1;\n",
              "}\n",
              "#T_0b566_row2_col8 {\n",
              "  background-color: #d1edb3;\n",
              "  color: #000000;\n",
              "}\n",
              "#T_0b566_row2_col9, #T_0b566_row5_col0 {\n",
              "  background-color: #67c4be;\n",
              "  color: #000000;\n",
              "}\n",
              "#T_0b566_row2_col11 {\n",
              "  background-color: #65c3bf;\n",
              "  color: #000000;\n",
              "}\n",
              "#T_0b566_row2_col12 {\n",
              "  background-color: #24409a;\n",
              "  color: #f1f1f1;\n",
              "}\n",
              "#T_0b566_row2_col14 {\n",
              "  background-color: #b2e1b6;\n",
              "  color: #000000;\n",
              "}\n",
              "#T_0b566_row3_col1 {\n",
              "  background-color: #2355a4;\n",
              "  color: #f1f1f1;\n",
              "}\n",
              "#T_0b566_row3_col3 {\n",
              "  background-color: #f5fbc2;\n",
              "  color: #000000;\n",
              "}\n",
              "#T_0b566_row3_col4 {\n",
              "  background-color: #f6fbc5;\n",
              "  color: #000000;\n",
              "}\n",
              "#T_0b566_row3_col6 {\n",
              "  background-color: #091e5a;\n",
              "  color: #f1f1f1;\n",
              "}\n",
              "#T_0b566_row3_col8 {\n",
              "  background-color: #2356a4;\n",
              "  color: #f1f1f1;\n",
              "}\n",
              "#T_0b566_row3_col12 {\n",
              "  background-color: #243392;\n",
              "  color: #f1f1f1;\n",
              "}\n",
              "#T_0b566_row4_col0 {\n",
              "  background-color: #1f2f87;\n",
              "  color: #f1f1f1;\n",
              "}\n",
              "#T_0b566_row4_col1 {\n",
              "  background-color: #0d2161;\n",
              "  color: #f1f1f1;\n",
              "}\n",
              "#T_0b566_row4_col2 {\n",
              "  background-color: #76cabc;\n",
              "  color: #000000;\n",
              "}\n",
              "#T_0b566_row4_col3 {\n",
              "  background-color: #21318d;\n",
              "  color: #f1f1f1;\n",
              "}\n",
              "#T_0b566_row4_col4 {\n",
              "  background-color: #216daf;\n",
              "  color: #f1f1f1;\n",
              "}\n",
              "#T_0b566_row4_col5 {\n",
              "  background-color: #289cc1;\n",
              "  color: #f1f1f1;\n",
              "}\n",
              "#T_0b566_row4_col6, #T_0b566_row6_col6 {\n",
              "  background-color: #2b9fc2;\n",
              "  color: #f1f1f1;\n",
              "}\n",
              "#T_0b566_row4_col7 {\n",
              "  background-color: #b4e2b6;\n",
              "  color: #000000;\n",
              "}\n",
              "#T_0b566_row4_col8 {\n",
              "  background-color: #bbe4b5;\n",
              "  color: #000000;\n",
              "}\n",
              "#T_0b566_row4_col10 {\n",
              "  background-color: #e1f3b2;\n",
              "  color: #000000;\n",
              "}\n",
              "#T_0b566_row4_col11 {\n",
              "  background-color: #87d0ba;\n",
              "  color: #000000;\n",
              "}\n",
              "#T_0b566_row4_col13 {\n",
              "  background-color: #80cebb;\n",
              "  color: #000000;\n",
              "}\n",
              "#T_0b566_row5_col1, #T_0b566_row5_col7 {\n",
              "  background-color: #d3eeb3;\n",
              "  color: #000000;\n",
              "}\n",
              "#T_0b566_row5_col2 {\n",
              "  background-color: #edf8b2;\n",
              "  color: #000000;\n",
              "}\n",
              "#T_0b566_row5_col5 {\n",
              "  background-color: #fafdcf;\n",
              "  color: #000000;\n",
              "}\n",
              "#T_0b566_row5_col6 {\n",
              "  background-color: #243f99;\n",
              "  color: #f1f1f1;\n",
              "}\n",
              "#T_0b566_row5_col8 {\n",
              "  background-color: #fdfed5;\n",
              "  color: #000000;\n",
              "}\n",
              "#T_0b566_row5_col9 {\n",
              "  background-color: #2296c1;\n",
              "  color: #f1f1f1;\n",
              "}\n",
              "#T_0b566_row5_col10 {\n",
              "  background-color: #97d6b9;\n",
              "  color: #000000;\n",
              "}\n",
              "#T_0b566_row5_col12 {\n",
              "  background-color: #9ed9b8;\n",
              "  color: #000000;\n",
              "}\n",
              "#T_0b566_row5_col14 {\n",
              "  background-color: #78cbbc;\n",
              "  color: #000000;\n",
              "}\n",
              "#T_0b566_row6_col0 {\n",
              "  background-color: #162874;\n",
              "  color: #f1f1f1;\n",
              "}\n",
              "#T_0b566_row6_col1 {\n",
              "  background-color: #a2dbb8;\n",
              "  color: #000000;\n",
              "}\n",
              "#T_0b566_row6_col2 {\n",
              "  background-color: #cfecb3;\n",
              "  color: #000000;\n",
              "}\n",
              "#T_0b566_row6_col3 {\n",
              "  background-color: #37acc3;\n",
              "  color: #f1f1f1;\n",
              "}\n",
              "#T_0b566_row6_col4 {\n",
              "  background-color: #d7efb3;\n",
              "  color: #000000;\n",
              "}\n",
              "#T_0b566_row6_col7 {\n",
              "  background-color: #2352a3;\n",
              "  color: #f1f1f1;\n",
              "}\n",
              "#T_0b566_row6_col8 {\n",
              "  background-color: #ecf7b1;\n",
              "  color: #000000;\n",
              "}\n",
              "#T_0b566_row6_col10 {\n",
              "  background-color: #90d4b9;\n",
              "  color: #000000;\n",
              "}\n",
              "#T_0b566_row6_col11 {\n",
              "  background-color: #1d91c0;\n",
              "  color: #f1f1f1;\n",
              "}\n",
              "#T_0b566_row6_col12 {\n",
              "  background-color: #40b5c4;\n",
              "  color: #f1f1f1;\n",
              "}\n",
              "#T_0b566_row6_col14 {\n",
              "  background-color: #daf0b3;\n",
              "  color: #000000;\n",
              "}\n",
              "</style>\n",
              "<table id=\"T_0b566\" class=\"dataframe\">\n",
              "  <thead>\n",
              "    <tr>\n",
              "      <th class=\"index_name level0\" >transaction_hour</th>\n",
              "      <th id=\"T_0b566_level0_col0\" class=\"col_heading level0 col0\" >6</th>\n",
              "      <th id=\"T_0b566_level0_col1\" class=\"col_heading level0 col1\" >7</th>\n",
              "      <th id=\"T_0b566_level0_col2\" class=\"col_heading level0 col2\" >8</th>\n",
              "      <th id=\"T_0b566_level0_col3\" class=\"col_heading level0 col3\" >9</th>\n",
              "      <th id=\"T_0b566_level0_col4\" class=\"col_heading level0 col4\" >10</th>\n",
              "      <th id=\"T_0b566_level0_col5\" class=\"col_heading level0 col5\" >11</th>\n",
              "      <th id=\"T_0b566_level0_col6\" class=\"col_heading level0 col6\" >12</th>\n",
              "      <th id=\"T_0b566_level0_col7\" class=\"col_heading level0 col7\" >13</th>\n",
              "      <th id=\"T_0b566_level0_col8\" class=\"col_heading level0 col8\" >14</th>\n",
              "      <th id=\"T_0b566_level0_col9\" class=\"col_heading level0 col9\" >15</th>\n",
              "      <th id=\"T_0b566_level0_col10\" class=\"col_heading level0 col10\" >16</th>\n",
              "      <th id=\"T_0b566_level0_col11\" class=\"col_heading level0 col11\" >17</th>\n",
              "      <th id=\"T_0b566_level0_col12\" class=\"col_heading level0 col12\" >18</th>\n",
              "      <th id=\"T_0b566_level0_col13\" class=\"col_heading level0 col13\" >19</th>\n",
              "      <th id=\"T_0b566_level0_col14\" class=\"col_heading level0 col14\" >20</th>\n",
              "    </tr>\n",
              "    <tr>\n",
              "      <th class=\"index_name level0\" >day_of_week</th>\n",
              "      <th class=\"blank col0\" >&nbsp;</th>\n",
              "      <th class=\"blank col1\" >&nbsp;</th>\n",
              "      <th class=\"blank col2\" >&nbsp;</th>\n",
              "      <th class=\"blank col3\" >&nbsp;</th>\n",
              "      <th class=\"blank col4\" >&nbsp;</th>\n",
              "      <th class=\"blank col5\" >&nbsp;</th>\n",
              "      <th class=\"blank col6\" >&nbsp;</th>\n",
              "      <th class=\"blank col7\" >&nbsp;</th>\n",
              "      <th class=\"blank col8\" >&nbsp;</th>\n",
              "      <th class=\"blank col9\" >&nbsp;</th>\n",
              "      <th class=\"blank col10\" >&nbsp;</th>\n",
              "      <th class=\"blank col11\" >&nbsp;</th>\n",
              "      <th class=\"blank col12\" >&nbsp;</th>\n",
              "      <th class=\"blank col13\" >&nbsp;</th>\n",
              "      <th class=\"blank col14\" >&nbsp;</th>\n",
              "    </tr>\n",
              "  </thead>\n",
              "  <tbody>\n",
              "    <tr>\n",
              "      <th id=\"T_0b566_level0_row0\" class=\"row_heading level0 row0\" >0</th>\n",
              "      <td id=\"T_0b566_row0_col0\" class=\"data row0 col0\" >661</td>\n",
              "      <td id=\"T_0b566_row0_col1\" class=\"data row0 col1\" >1992</td>\n",
              "      <td id=\"T_0b566_row0_col2\" class=\"data row0 col2\" >2482</td>\n",
              "      <td id=\"T_0b566_row0_col3\" class=\"data row0 col3\" >2494</td>\n",
              "      <td id=\"T_0b566_row0_col4\" class=\"data row0 col4\" >2612</td>\n",
              "      <td id=\"T_0b566_row0_col5\" class=\"data row0 col5\" >1478</td>\n",
              "      <td id=\"T_0b566_row0_col6\" class=\"data row0 col6\" >1308</td>\n",
              "      <td id=\"T_0b566_row0_col7\" class=\"data row0 col7\" >1267</td>\n",
              "      <td id=\"T_0b566_row0_col8\" class=\"data row0 col8\" >1376</td>\n",
              "      <td id=\"T_0b566_row0_col9\" class=\"data row0 col9\" >1319</td>\n",
              "      <td id=\"T_0b566_row0_col10\" class=\"data row0 col10\" >1355</td>\n",
              "      <td id=\"T_0b566_row0_col11\" class=\"data row0 col11\" >1302</td>\n",
              "      <td id=\"T_0b566_row0_col12\" class=\"data row0 col12\" >1077</td>\n",
              "      <td id=\"T_0b566_row0_col13\" class=\"data row0 col13\" >846</td>\n",
              "      <td id=\"T_0b566_row0_col14\" class=\"data row0 col14\" >74</td>\n",
              "    </tr>\n",
              "    <tr>\n",
              "      <th id=\"T_0b566_level0_row1\" class=\"row_heading level0 row1\" >1</th>\n",
              "      <td id=\"T_0b566_row1_col0\" class=\"data row1 col0\" >489</td>\n",
              "      <td id=\"T_0b566_row1_col1\" class=\"data row1 col1\" >1846</td>\n",
              "      <td id=\"T_0b566_row1_col2\" class=\"data row1 col2\" >2783</td>\n",
              "      <td id=\"T_0b566_row1_col3\" class=\"data row1 col3\" >2753</td>\n",
              "      <td id=\"T_0b566_row1_col4\" class=\"data row1 col4\" >2846</td>\n",
              "      <td id=\"T_0b566_row1_col5\" class=\"data row1 col5\" >1301</td>\n",
              "      <td id=\"T_0b566_row1_col6\" class=\"data row1 col6\" >1126</td>\n",
              "      <td id=\"T_0b566_row1_col7\" class=\"data row1 col7\" >1152</td>\n",
              "      <td id=\"T_0b566_row1_col8\" class=\"data row1 col8\" >1224</td>\n",
              "      <td id=\"T_0b566_row1_col9\" class=\"data row1 col9\" >1254</td>\n",
              "      <td id=\"T_0b566_row1_col10\" class=\"data row1 col10\" >1227</td>\n",
              "      <td id=\"T_0b566_row1_col11\" class=\"data row1 col11\" >1232</td>\n",
              "      <td id=\"T_0b566_row1_col12\" class=\"data row1 col12\" >957</td>\n",
              "      <td id=\"T_0b566_row1_col13\" class=\"data row1 col13\" >872</td>\n",
              "      <td id=\"T_0b566_row1_col14\" class=\"data row1 col14\" >140</td>\n",
              "    </tr>\n",
              "    <tr>\n",
              "      <th id=\"T_0b566_level0_row2\" class=\"row_heading level0 row2\" >2</th>\n",
              "      <td id=\"T_0b566_row2_col0\" class=\"data row2 col0\" >698</td>\n",
              "      <td id=\"T_0b566_row2_col1\" class=\"data row2 col1\" >1873</td>\n",
              "      <td id=\"T_0b566_row2_col2\" class=\"data row2 col2\" >2540</td>\n",
              "      <td id=\"T_0b566_row2_col3\" class=\"data row2 col3\" >2527</td>\n",
              "      <td id=\"T_0b566_row2_col4\" class=\"data row2 col4\" >2596</td>\n",
              "      <td id=\"T_0b566_row2_col5\" class=\"data row2 col5\" >1468</td>\n",
              "      <td id=\"T_0b566_row2_col6\" class=\"data row2 col6\" >1226</td>\n",
              "      <td id=\"T_0b566_row2_col7\" class=\"data row2 col7\" >1311</td>\n",
              "      <td id=\"T_0b566_row2_col8\" class=\"data row2 col8\" >1257</td>\n",
              "      <td id=\"T_0b566_row2_col9\" class=\"data row2 col9\" >1270</td>\n",
              "      <td id=\"T_0b566_row2_col10\" class=\"data row2 col10\" >1272</td>\n",
              "      <td id=\"T_0b566_row2_col11\" class=\"data row2 col11\" >1235</td>\n",
              "      <td id=\"T_0b566_row2_col12\" class=\"data row2 col12\" >1118</td>\n",
              "      <td id=\"T_0b566_row2_col13\" class=\"data row2 col13\" >836</td>\n",
              "      <td id=\"T_0b566_row2_col14\" class=\"data row2 col14\" >83</td>\n",
              "    </tr>\n",
              "    <tr>\n",
              "      <th id=\"T_0b566_level0_row3\" class=\"row_heading level0 row3\" >3</th>\n",
              "      <td id=\"T_0b566_row3_col0\" class=\"data row3 col0\" >731</td>\n",
              "      <td id=\"T_0b566_row3_col1\" class=\"data row3 col1\" >1959</td>\n",
              "      <td id=\"T_0b566_row3_col2\" class=\"data row3 col2\" >2389</td>\n",
              "      <td id=\"T_0b566_row3_col3\" class=\"data row3 col3\" >2375</td>\n",
              "      <td id=\"T_0b566_row3_col4\" class=\"data row3 col4\" >2570</td>\n",
              "      <td id=\"T_0b566_row3_col5\" class=\"data row3 col5\" >1470</td>\n",
              "      <td id=\"T_0b566_row3_col6\" class=\"data row3 col6\" >1307</td>\n",
              "      <td id=\"T_0b566_row3_col7\" class=\"data row3 col7\" >1317</td>\n",
              "      <td id=\"T_0b566_row3_col8\" class=\"data row3 col8\" >1341</td>\n",
              "      <td id=\"T_0b566_row3_col9\" class=\"data row3 col9\" >1323</td>\n",
              "      <td id=\"T_0b566_row3_col10\" class=\"data row3 col10\" >1406</td>\n",
              "      <td id=\"T_0b566_row3_col11\" class=\"data row3 col11\" >1311</td>\n",
              "      <td id=\"T_0b566_row3_col12\" class=\"data row3 col12\" >1125</td>\n",
              "      <td id=\"T_0b566_row3_col13\" class=\"data row3 col13\" >970</td>\n",
              "      <td id=\"T_0b566_row3_col14\" class=\"data row3 col14\" >60</td>\n",
              "    </tr>\n",
              "    <tr>\n",
              "      <th id=\"T_0b566_level0_row4\" class=\"row_heading level0 row4\" >4</th>\n",
              "      <td id=\"T_0b566_row4_col0\" class=\"data row4 col0\" >707</td>\n",
              "      <td id=\"T_0b566_row4_col1\" class=\"data row4 col1\" >1989</td>\n",
              "      <td id=\"T_0b566_row4_col2\" class=\"data row4 col2\" >2544</td>\n",
              "      <td id=\"T_0b566_row4_col3\" class=\"data row4 col3\" >2707</td>\n",
              "      <td id=\"T_0b566_row4_col4\" class=\"data row4 col4\" >2761</td>\n",
              "      <td id=\"T_0b566_row4_col5\" class=\"data row4 col5\" >1405</td>\n",
              "      <td id=\"T_0b566_row4_col6\" class=\"data row4 col6\" >1231</td>\n",
              "      <td id=\"T_0b566_row4_col7\" class=\"data row4 col7\" >1199</td>\n",
              "      <td id=\"T_0b566_row4_col8\" class=\"data row4 col8\" >1265</td>\n",
              "      <td id=\"T_0b566_row4_col9\" class=\"data row4 col9\" >1295</td>\n",
              "      <td id=\"T_0b566_row4_col10\" class=\"data row4 col10\" >1257</td>\n",
              "      <td id=\"T_0b566_row4_col11\" class=\"data row4 col11\" >1226</td>\n",
              "      <td id=\"T_0b566_row4_col12\" class=\"data row4 col12\" >1149</td>\n",
              "      <td id=\"T_0b566_row4_col13\" class=\"data row4 col13\" >886</td>\n",
              "      <td id=\"T_0b566_row4_col14\" class=\"data row4 col14\" >80</td>\n",
              "    </tr>\n",
              "    <tr>\n",
              "      <th id=\"T_0b566_level0_row5\" class=\"row_heading level0 row5\" >5</th>\n",
              "      <td id=\"T_0b566_row5_col0\" class=\"data row5 col0\" >592</td>\n",
              "      <td id=\"T_0b566_row5_col1\" class=\"data row5 col1\" >1877</td>\n",
              "      <td id=\"T_0b566_row5_col2\" class=\"data row5 col2\" >2438</td>\n",
              "      <td id=\"T_0b566_row5_col3\" class=\"data row5 col3\" >2345</td>\n",
              "      <td id=\"T_0b566_row5_col4\" class=\"data row5 col4\" >2551</td>\n",
              "      <td id=\"T_0b566_row5_col5\" class=\"data row5 col5\" >1307</td>\n",
              "      <td id=\"T_0b566_row5_col6\" class=\"data row5 col6\" >1279</td>\n",
              "      <td id=\"T_0b566_row5_col7\" class=\"data row5 col7\" >1187</td>\n",
              "      <td id=\"T_0b566_row5_col8\" class=\"data row5 col8\" >1226</td>\n",
              "      <td id=\"T_0b566_row5_col9\" class=\"data row5 col9\" >1287</td>\n",
              "      <td id=\"T_0b566_row5_col10\" class=\"data row5 col10\" >1287</td>\n",
              "      <td id=\"T_0b566_row5_col11\" class=\"data row5 col11\" >1178</td>\n",
              "      <td id=\"T_0b566_row5_col12\" class=\"data row5 col12\" >1019</td>\n",
              "      <td id=\"T_0b566_row5_col13\" class=\"data row5 col13\" >846</td>\n",
              "      <td id=\"T_0b566_row5_col14\" class=\"data row5 col14\" >91</td>\n",
              "    </tr>\n",
              "    <tr>\n",
              "      <th id=\"T_0b566_level0_row6\" class=\"row_heading level0 row6\" >6</th>\n",
              "      <td id=\"T_0b566_row6_col0\" class=\"data row6 col0\" >716</td>\n",
              "      <td id=\"T_0b566_row6_col1\" class=\"data row6 col1\" >1892</td>\n",
              "      <td id=\"T_0b566_row6_col2\" class=\"data row6 col2\" >2478</td>\n",
              "      <td id=\"T_0b566_row6_col3\" class=\"data row6 col3\" >2563</td>\n",
              "      <td id=\"T_0b566_row6_col4\" class=\"data row6 col4\" >2609</td>\n",
              "      <td id=\"T_0b566_row6_col5\" class=\"data row6 col5\" >1337</td>\n",
              "      <td id=\"T_0b566_row6_col6\" class=\"data row6 col6\" >1231</td>\n",
              "      <td id=\"T_0b566_row6_col7\" class=\"data row6 col7\" >1281</td>\n",
              "      <td id=\"T_0b566_row6_col8\" class=\"data row6 col8\" >1244</td>\n",
              "      <td id=\"T_0b566_row6_col9\" class=\"data row6 col9\" >1231</td>\n",
              "      <td id=\"T_0b566_row6_col10\" class=\"data row6 col10\" >1289</td>\n",
              "      <td id=\"T_0b566_row6_col11\" class=\"data row6 col11\" >1261</td>\n",
              "      <td id=\"T_0b566_row6_col12\" class=\"data row6 col12\" >1053</td>\n",
              "      <td id=\"T_0b566_row6_col13\" class=\"data row6 col13\" >836</td>\n",
              "      <td id=\"T_0b566_row6_col14\" class=\"data row6 col14\" >75</td>\n",
              "    </tr>\n",
              "  </tbody>\n",
              "</table>\n"
            ]
          },
          "metadata": {},
          "execution_count": 152
        }
      ]
    },
    {
      "cell_type": "code",
      "source": [
        "fig, ax = plt.subplots(figsize = [10,5])\n",
        "sns.heatmap(day_hour_orders, cmap= 'Blues')\n",
        "plt.show()"
      ],
      "metadata": {
        "colab": {
          "base_uri": "https://localhost:8080/",
          "height": 465
        },
        "id": "h2tmql9Jpkhq",
        "outputId": "8b6e90a3-be86-4470-b78c-2eb2cef09dbe"
      },
      "execution_count": null,
      "outputs": [
        {
          "output_type": "display_data",
          "data": {
            "text/plain": [
              "<Figure size 1000x500 with 2 Axes>"
            ],
            "image/png": "[encoded data removed]"
          },
          "metadata": {}
        }
      ]
    },
    {
      "cell_type": "markdown",
      "source": [
        "3- Monthly Orders"
      ],
      "metadata": {
        "id": "-qY9Zg2cqfU_"
      }
    },
    {
      "cell_type": "code",
      "source": [
        "monthly_orders = coffee_df.groupby(['transaction_month', 'transaction_month_name'], as_index= False).agg(total_orders = ('transaction_id', 'count'))\n"
      ],
      "metadata": {
        "id": "JLir4N5cqlpR"
      },
      "execution_count": null,
      "outputs": []
    },
    {
      "cell_type": "code",
      "source": [
        "monthly_orders_table = monthly_orders.style.background_gradient(\n",
        "    subset=['total_orders'],  cmap='cividis' )"
      ],
      "metadata": {
        "id": "LwcCM2EDYWTL"
      },
      "execution_count": null,
      "outputs": []
    },
    {
      "cell_type": "code",
      "source": [
        "monthly_orders_table"
      ],
      "metadata": {
        "colab": {
          "base_uri": "https://localhost:8080/",
          "height": 237
        },
        "id": "e7CTHsWUrJl7",
        "outputId": "0cbac3a2-3a55-4754-d9cc-d889b32d348d"
      },
      "execution_count": null,
      "outputs": [
        {
          "output_type": "execute_result",
          "data": {
            "text/plain": [
              "<pandas.io.formats.style.Styler at 0x79a797af88c0>"
            ],
            "text/html": [
              "<style type=\"text/css\">\n",
              "#T_c71c8_row0_col2 {\n",
              "  background-color: #002b62;\n",
              "  color: #f1f1f1;\n",
              "}\n",
              "#T_c71c8_row1_col2 {\n",
              "  background-color: #00224e;\n",
              "  color: #f1f1f1;\n",
              "}\n",
              "#T_c71c8_row2_col2 {\n",
              "  background-color: #444f6c;\n",
              "  color: #f1f1f1;\n",
              "}\n",
              "#T_c71c8_row3_col2 {\n",
              "  background-color: #767676;\n",
              "  color: #f1f1f1;\n",
              "}\n",
              "#T_c71c8_row4_col2 {\n",
              "  background-color: #e6d051;\n",
              "  color: #000000;\n",
              "}\n",
              "#T_c71c8_row5_col2 {\n",
              "  background-color: #fee838;\n",
              "  color: #000000;\n",
              "}\n",
              "</style>\n",
              "<table id=\"T_c71c8\" class=\"dataframe\">\n",
              "  <thead>\n",
              "    <tr>\n",
              "      <th class=\"blank level0\" >&nbsp;</th>\n",
              "      <th id=\"T_c71c8_level0_col0\" class=\"col_heading level0 col0\" >transaction_month</th>\n",
              "      <th id=\"T_c71c8_level0_col1\" class=\"col_heading level0 col1\" >transaction_month_name</th>\n",
              "      <th id=\"T_c71c8_level0_col2\" class=\"col_heading level0 col2\" >total_orders</th>\n",
              "    </tr>\n",
              "  </thead>\n",
              "  <tbody>\n",
              "    <tr>\n",
              "      <th id=\"T_c71c8_level0_row0\" class=\"row_heading level0 row0\" >0</th>\n",
              "      <td id=\"T_c71c8_row0_col0\" class=\"data row0 col0\" >1</td>\n",
              "      <td id=\"T_c71c8_row0_col1\" class=\"data row0 col1\" >January</td>\n",
              "      <td id=\"T_c71c8_row0_col2\" class=\"data row0 col2\" >17314</td>\n",
              "    </tr>\n",
              "    <tr>\n",
              "      <th id=\"T_c71c8_level0_row1\" class=\"row_heading level0 row1\" >1</th>\n",
              "      <td id=\"T_c71c8_row1_col0\" class=\"data row1 col0\" >2</td>\n",
              "      <td id=\"T_c71c8_row1_col1\" class=\"data row1 col1\" >February</td>\n",
              "      <td id=\"T_c71c8_row1_col2\" class=\"data row1 col2\" >16359</td>\n",
              "    </tr>\n",
              "    <tr>\n",
              "      <th id=\"T_c71c8_level0_row2\" class=\"row_heading level0 row2\" >2</th>\n",
              "      <td id=\"T_c71c8_row2_col0\" class=\"data row2 col0\" >3</td>\n",
              "      <td id=\"T_c71c8_row2_col1\" class=\"data row2 col1\" >March</td>\n",
              "      <td id=\"T_c71c8_row2_col2\" class=\"data row2 col2\" >21229</td>\n",
              "    </tr>\n",
              "    <tr>\n",
              "      <th id=\"T_c71c8_level0_row3\" class=\"row_heading level0 row3\" >3</th>\n",
              "      <td id=\"T_c71c8_row3_col0\" class=\"data row3 col0\" >4</td>\n",
              "      <td id=\"T_c71c8_row3_col1\" class=\"data row3 col1\" >April</td>\n",
              "      <td id=\"T_c71c8_row3_col2\" class=\"data row3 col2\" >25335</td>\n",
              "    </tr>\n",
              "    <tr>\n",
              "      <th id=\"T_c71c8_level0_row4\" class=\"row_heading level0 row4\" >4</th>\n",
              "      <td id=\"T_c71c8_row4_col0\" class=\"data row4 col0\" >5</td>\n",
              "      <td id=\"T_c71c8_row4_col1\" class=\"data row4 col1\" >May</td>\n",
              "      <td id=\"T_c71c8_row4_col2\" class=\"data row4 col2\" >33527</td>\n",
              "    </tr>\n",
              "    <tr>\n",
              "      <th id=\"T_c71c8_level0_row5\" class=\"row_heading level0 row5\" >5</th>\n",
              "      <td id=\"T_c71c8_row5_col0\" class=\"data row5 col0\" >6</td>\n",
              "      <td id=\"T_c71c8_row5_col1\" class=\"data row5 col1\" >June</td>\n",
              "      <td id=\"T_c71c8_row5_col2\" class=\"data row5 col2\" >35352</td>\n",
              "    </tr>\n",
              "  </tbody>\n",
              "</table>\n"
            ]
          },
          "metadata": {},
          "execution_count": 160
        }
      ]
    },
    {
      "cell_type": "code",
      "source": [
        "fig, ax = plt.subplots(figsize= [10,3])\n",
        "ax.bar(x= monthly_orders['transaction_month_name'].str[0:3], height = monthly_orders['total_orders'], color = \"Orange\")\n",
        "ax.spines[['top', 'right', 'left']].set_visible(False)\n",
        "\n",
        "ax.set_xlabel('Month')\n",
        "ax.set_ylabel('Total Orders')\n",
        "ax.set_title('Total Orders By Month')\n",
        "\n",
        "plt.show()"
      ],
      "metadata": {
        "colab": {
          "base_uri": "https://localhost:8080/",
          "height": 333
        },
        "id": "Id9WpIhLrbCk",
        "outputId": "f394e346-36e2-473b-df16-b73dfca10c8a"
      },
      "execution_count": null,
      "outputs": [
        {
          "output_type": "display_data",
          "data": {
            "text/plain": [
              "<Figure size 1000x300 with 1 Axes>"
            ],
            "image/png": "[encoded data removed]"
          },
          "metadata": {}
        }
      ]
    },
    {
      "cell_type": "markdown",
      "source": [
        "4- Orders By Stores:-"
      ],
      "metadata": {
        "id": "y2ubzxq4skzf"
      }
    },
    {
      "cell_type": "code",
      "source": [
        "store_orders = coffee_df.groupby(['store_id' ,'store_location'],as_index= False).agg(total_orders = ('transaction_id', 'count'))"
      ],
      "metadata": {
        "id": "9c0zB8pJsrUX"
      },
      "execution_count": null,
      "outputs": []
    },
    {
      "cell_type": "code",
      "source": [
        "store_orders_table = store_orders.style.background_gradient(\n",
        "    subset=['total_orders'],  cmap='summer' )"
      ],
      "metadata": {
        "id": "BjS_-xRIYCGw"
      },
      "execution_count": null,
      "outputs": []
    },
    {
      "cell_type": "code",
      "source": [
        "store_orders_table"
      ],
      "metadata": {
        "colab": {
          "base_uri": "https://localhost:8080/",
          "height": 143
        },
        "id": "chSvtw81YKGS",
        "outputId": "1da04f6e-5f6c-4224-9d88-447417d87d38"
      },
      "execution_count": null,
      "outputs": [
        {
          "output_type": "execute_result",
          "data": {
            "text/plain": [
              "<pandas.io.formats.style.Styler at 0x79a797533fb0>"
            ],
            "text/html": [
              "<style type=\"text/css\">\n",
              "#T_3c3ed_row0_col2 {\n",
              "  background-color: #f4fa66;\n",
              "  color: #000000;\n",
              "}\n",
              "#T_3c3ed_row1_col2 {\n",
              "  background-color: #008066;\n",
              "  color: #f1f1f1;\n",
              "}\n",
              "#T_3c3ed_row2_col2 {\n",
              "  background-color: #ffff66;\n",
              "  color: #000000;\n",
              "}\n",
              "</style>\n",
              "<table id=\"T_3c3ed\" class=\"dataframe\">\n",
              "  <thead>\n",
              "    <tr>\n",
              "      <th class=\"blank level0\" >&nbsp;</th>\n",
              "      <th id=\"T_3c3ed_level0_col0\" class=\"col_heading level0 col0\" >store_id</th>\n",
              "      <th id=\"T_3c3ed_level0_col1\" class=\"col_heading level0 col1\" >store_location</th>\n",
              "      <th id=\"T_3c3ed_level0_col2\" class=\"col_heading level0 col2\" >total_orders</th>\n",
              "    </tr>\n",
              "  </thead>\n",
              "  <tbody>\n",
              "    <tr>\n",
              "      <th id=\"T_3c3ed_level0_row0\" class=\"row_heading level0 row0\" >0</th>\n",
              "      <td id=\"T_3c3ed_row0_col0\" class=\"data row0 col0\" >3</td>\n",
              "      <td id=\"T_3c3ed_row0_col1\" class=\"data row0 col1\" >Astoria</td>\n",
              "      <td id=\"T_3c3ed_row0_col2\" class=\"data row0 col2\" >50599</td>\n",
              "    </tr>\n",
              "    <tr>\n",
              "      <th id=\"T_3c3ed_level0_row1\" class=\"row_heading level0 row1\" >1</th>\n",
              "      <td id=\"T_3c3ed_row1_col0\" class=\"data row1 col0\" >5</td>\n",
              "      <td id=\"T_3c3ed_row1_col1\" class=\"data row1 col1\" >Lower Manhattan</td>\n",
              "      <td id=\"T_3c3ed_row1_col2\" class=\"data row1 col2\" >47782</td>\n",
              "    </tr>\n",
              "    <tr>\n",
              "      <th id=\"T_3c3ed_level0_row2\" class=\"row_heading level0 row2\" >2</th>\n",
              "      <td id=\"T_3c3ed_row2_col0\" class=\"data row2 col0\" >8</td>\n",
              "      <td id=\"T_3c3ed_row2_col1\" class=\"data row2 col1\" >Hell's Kitchen</td>\n",
              "      <td id=\"T_3c3ed_row2_col2\" class=\"data row2 col2\" >50735</td>\n",
              "    </tr>\n",
              "  </tbody>\n",
              "</table>\n"
            ]
          },
          "metadata": {},
          "execution_count": 123
        }
      ]
    },
    {
      "cell_type": "code",
      "source": [
        "fig, ax = plt.subplots(figsize= [10,5])\n",
        "ax.pie(store_orders['total_orders'], autopct = '%.0f%%', startangle=90, labels= store_orders['store_location'])\n",
        "ax.set_title('Percentage of orders by stores')\n",
        "plt.show()"
      ],
      "metadata": {
        "colab": {
          "base_uri": "https://localhost:8080/",
          "height": 444
        },
        "id": "EvidX-Kv5kgU",
        "outputId": "4d3c8d9f-f93b-4924-f86d-e5a754c4b08b"
      },
      "execution_count": null,
      "outputs": [
        {
          "output_type": "display_data",
          "data": {
            "text/plain": [
              "<Figure size 1000x500 with 1 Axes>"
            ],
            "image/png": "[encoded data removed]"
          },
          "metadata": {}
        }
      ]
    },
    {
      "cell_type": "markdown",
      "source": [
        "5 - Orders By Product Category"
      ],
      "metadata": {
        "id": "HZbQUK-h8Lgq"
      }
    },
    {
      "cell_type": "code",
      "source": [
        "order_by_product_category = coffee_df.groupby(['product_category'], as_index= False).agg(total_orders = ('transaction_id', 'count')).sort_values('total_orders', ascending= False)"
      ],
      "metadata": {
        "id": "9WgETVfW8O_4"
      },
      "execution_count": null,
      "outputs": []
    },
    {
      "cell_type": "code",
      "source": [
        "order_by_product_category_table = order_by_product_category.style.background_gradient(\n",
        "    subset=['total_orders'],  cmap='plasma' )"
      ],
      "metadata": {
        "id": "YdQupp2pb1kz"
      },
      "execution_count": null,
      "outputs": []
    },
    {
      "cell_type": "code",
      "source": [
        "order_by_product_category_table"
      ],
      "metadata": {
        "colab": {
          "base_uri": "https://localhost:8080/",
          "height": 331
        },
        "id": "4d1drltkb8hS",
        "outputId": "f8a2c906-4bf8-43f5-c0e9-130bda6736da"
      },
      "execution_count": null,
      "outputs": [
        {
          "output_type": "execute_result",
          "data": {
            "text/plain": [
              "<pandas.io.formats.style.Styler at 0x79a797af9fa0>"
            ],
            "text/html": [
              "<style type=\"text/css\">\n",
              "#T_c74fb_row0_col1 {\n",
              "  background-color: #f0f921;\n",
              "  color: #000000;\n",
              "}\n",
              "#T_c74fb_row1_col1 {\n",
              "  background-color: #fa9e3b;\n",
              "  color: #000000;\n",
              "}\n",
              "#T_c74fb_row2_col1 {\n",
              "  background-color: #ac2694;\n",
              "  color: #f1f1f1;\n",
              "}\n",
              "#T_c74fb_row3_col1 {\n",
              "  background-color: #6600a7;\n",
              "  color: #f1f1f1;\n",
              "}\n",
              "#T_c74fb_row4_col1 {\n",
              "  background-color: #44039e;\n",
              "  color: #f1f1f1;\n",
              "}\n",
              "#T_c74fb_row5_col1 {\n",
              "  background-color: #1b068d;\n",
              "  color: #f1f1f1;\n",
              "}\n",
              "#T_c74fb_row6_col1 {\n",
              "  background-color: #16078a;\n",
              "  color: #f1f1f1;\n",
              "}\n",
              "#T_c74fb_row7_col1 {\n",
              "  background-color: #100788;\n",
              "  color: #f1f1f1;\n",
              "}\n",
              "#T_c74fb_row8_col1 {\n",
              "  background-color: #0d0887;\n",
              "  color: #f1f1f1;\n",
              "}\n",
              "</style>\n",
              "<table id=\"T_c74fb\" class=\"dataframe\">\n",
              "  <thead>\n",
              "    <tr>\n",
              "      <th class=\"blank level0\" >&nbsp;</th>\n",
              "      <th id=\"T_c74fb_level0_col0\" class=\"col_heading level0 col0\" >product_category</th>\n",
              "      <th id=\"T_c74fb_level0_col1\" class=\"col_heading level0 col1\" >total_orders</th>\n",
              "    </tr>\n",
              "  </thead>\n",
              "  <tbody>\n",
              "    <tr>\n",
              "      <th id=\"T_c74fb_level0_row0\" class=\"row_heading level0 row0\" >2</th>\n",
              "      <td id=\"T_c74fb_row0_col0\" class=\"data row0 col0\" >Coffee</td>\n",
              "      <td id=\"T_c74fb_row0_col1\" class=\"data row0 col1\" >58416</td>\n",
              "    </tr>\n",
              "    <tr>\n",
              "      <th id=\"T_c74fb_level0_row1\" class=\"row_heading level0 row1\" >8</th>\n",
              "      <td id=\"T_c74fb_row1_col0\" class=\"data row1 col0\" >Tea</td>\n",
              "      <td id=\"T_c74fb_row1_col1\" class=\"data row1 col1\" >45449</td>\n",
              "    </tr>\n",
              "    <tr>\n",
              "      <th id=\"T_c74fb_level0_row2\" class=\"row_heading level0 row2\" >0</th>\n",
              "      <td id=\"T_c74fb_row2_col0\" class=\"data row2 col0\" >Bakery</td>\n",
              "      <td id=\"T_c74fb_row2_col1\" class=\"data row2 col1\" >22796</td>\n",
              "    </tr>\n",
              "    <tr>\n",
              "      <th id=\"T_c74fb_level0_row3\" class=\"row_heading level0 row3\" >4</th>\n",
              "      <td id=\"T_c74fb_row3_col0\" class=\"data row3 col0\" >Drinking Chocolate</td>\n",
              "      <td id=\"T_c74fb_row3_col1\" class=\"data row3 col1\" >11468</td>\n",
              "    </tr>\n",
              "    <tr>\n",
              "      <th id=\"T_c74fb_level0_row4\" class=\"row_heading level0 row4\" >5</th>\n",
              "      <td id=\"T_c74fb_row4_col0\" class=\"data row4 col0\" >Flavours</td>\n",
              "      <td id=\"T_c74fb_row4_col1\" class=\"data row4 col1\" >6790</td>\n",
              "    </tr>\n",
              "    <tr>\n",
              "      <th id=\"T_c74fb_level0_row5\" class=\"row_heading level0 row5\" >3</th>\n",
              "      <td id=\"T_c74fb_row5_col0\" class=\"data row5 col0\" >Coffee beans</td>\n",
              "      <td id=\"T_c74fb_row5_col1\" class=\"data row5 col1\" >1753</td>\n",
              "    </tr>\n",
              "    <tr>\n",
              "      <th id=\"T_c74fb_level0_row6\" class=\"row_heading level0 row6\" >6</th>\n",
              "      <td id=\"T_c74fb_row6_col0\" class=\"data row6 col0\" >Loose Tea</td>\n",
              "      <td id=\"T_c74fb_row6_col1\" class=\"data row6 col1\" >1210</td>\n",
              "    </tr>\n",
              "    <tr>\n",
              "      <th id=\"T_c74fb_level0_row7\" class=\"row_heading level0 row7\" >1</th>\n",
              "      <td id=\"T_c74fb_row7_col0\" class=\"data row7 col0\" >Branded</td>\n",
              "      <td id=\"T_c74fb_row7_col1\" class=\"data row7 col1\" >747</td>\n",
              "    </tr>\n",
              "    <tr>\n",
              "      <th id=\"T_c74fb_level0_row8\" class=\"row_heading level0 row8\" >7</th>\n",
              "      <td id=\"T_c74fb_row8_col0\" class=\"data row8 col0\" >Packaged Chocolate</td>\n",
              "      <td id=\"T_c74fb_row8_col1\" class=\"data row8 col1\" >487</td>\n",
              "    </tr>\n",
              "  </tbody>\n",
              "</table>\n"
            ]
          },
          "metadata": {},
          "execution_count": 158
        }
      ]
    },
    {
      "cell_type": "markdown",
      "source": [
        "6- Top 10 Products by Orders"
      ],
      "metadata": {
        "id": "5z6X66ga9CGh"
      }
    },
    {
      "cell_type": "code",
      "source": [
        "top_10_products_by_order = coffee_df.groupby(['product_type'], as_index= False).agg(total_orders = ('transaction_id', 'count')).sort_values('total_orders', ascending= False).head(10)"
      ],
      "metadata": {
        "id": "SF4hMMO49G5H"
      },
      "execution_count": null,
      "outputs": []
    },
    {
      "cell_type": "code",
      "source": [
        "top_10_products_by_order_table = top_10_products_by_order.style.background_gradient(\n",
        "    subset=['total_orders'],  cmap='YlGnBu' )"
      ],
      "metadata": {
        "id": "Ls_qEgtxbUzF"
      },
      "execution_count": null,
      "outputs": []
    },
    {
      "cell_type": "code",
      "source": [
        "top_10_products_by_order_table"
      ],
      "metadata": {
        "colab": {
          "base_uri": "https://localhost:8080/",
          "height": 363
        },
        "id": "JK-RTBDEbcg4",
        "outputId": "4dd5cbff-a75e-4ae1-b914-bc952d7d3c2b"
      },
      "execution_count": null,
      "outputs": [
        {
          "output_type": "execute_result",
          "data": {
            "text/plain": [
              "<pandas.io.formats.style.Styler at 0x79a797af9970>"
            ],
            "text/html": [
              "<style type=\"text/css\">\n",
              "#T_31c31_row0_col1 {\n",
              "  background-color: #081d58;\n",
              "  color: #f1f1f1;\n",
              "}\n",
              "#T_31c31_row1_col1 {\n",
              "  background-color: #0e2265;\n",
              "  color: #f1f1f1;\n",
              "}\n",
              "#T_31c31_row2_col1 {\n",
              "  background-color: #1c2d81;\n",
              "  color: #f1f1f1;\n",
              "}\n",
              "#T_31c31_row3_col1 {\n",
              "  background-color: #83cebb;\n",
              "  color: #000000;\n",
              "}\n",
              "#T_31c31_row4_col1 {\n",
              "  background-color: #8cd2ba;\n",
              "  color: #000000;\n",
              "}\n",
              "#T_31c31_row5_col1 {\n",
              "  background-color: #92d5b9;\n",
              "  color: #000000;\n",
              "}\n",
              "#T_31c31_row6_col1 {\n",
              "  background-color: #cfecb3;\n",
              "  color: #000000;\n",
              "}\n",
              "#T_31c31_row7_col1 {\n",
              "  background-color: #f9fdcc;\n",
              "  color: #000000;\n",
              "}\n",
              "#T_31c31_row8_col1 {\n",
              "  background-color: #fafdce;\n",
              "  color: #000000;\n",
              "}\n",
              "#T_31c31_row9_col1 {\n",
              "  background-color: #ffffd9;\n",
              "  color: #000000;\n",
              "}\n",
              "</style>\n",
              "<table id=\"T_31c31\" class=\"dataframe\">\n",
              "  <thead>\n",
              "    <tr>\n",
              "      <th class=\"blank level0\" >&nbsp;</th>\n",
              "      <th id=\"T_31c31_level0_col0\" class=\"col_heading level0 col0\" >product_type</th>\n",
              "      <th id=\"T_31c31_level0_col1\" class=\"col_heading level0 col1\" >total_orders</th>\n",
              "    </tr>\n",
              "  </thead>\n",
              "  <tbody>\n",
              "    <tr>\n",
              "      <th id=\"T_31c31_level0_row0\" class=\"row_heading level0 row0\" >4</th>\n",
              "      <td id=\"T_31c31_row0_col0\" class=\"data row0 col0\" >Brewed Chai tea</td>\n",
              "      <td id=\"T_31c31_row0_col1\" class=\"data row0 col1\" >17183</td>\n",
              "    </tr>\n",
              "    <tr>\n",
              "      <th id=\"T_31c31_level0_row1\" class=\"row_heading level0 row1\" >13</th>\n",
              "      <td id=\"T_31c31_row1_col0\" class=\"data row1 col0\" >Gourmet brewed coffee</td>\n",
              "      <td id=\"T_31c31_row1_col1\" class=\"data row1 col1\" >16912</td>\n",
              "    </tr>\n",
              "    <tr>\n",
              "      <th id=\"T_31c31_level0_row2\" class=\"row_heading level0 row2\" >0</th>\n",
              "      <td id=\"T_31c31_row2_col0\" class=\"data row2 col0\" >Barista Espresso</td>\n",
              "      <td id=\"T_31c31_row2_col1\" class=\"data row2 col1\" >16403</td>\n",
              "    </tr>\n",
              "    <tr>\n",
              "      <th id=\"T_31c31_level0_row3\" class=\"row_heading level0 row3\" >17</th>\n",
              "      <td id=\"T_31c31_row3_col0\" class=\"data row3 col0\" >Hot chocolate</td>\n",
              "      <td id=\"T_31c31_row3_col1\" class=\"data row3 col1\" >11468</td>\n",
              "    </tr>\n",
              "    <tr>\n",
              "      <th id=\"T_31c31_level0_row4\" class=\"row_heading level0 row4\" >3</th>\n",
              "      <td id=\"T_31c31_row4_col0\" class=\"data row4 col0\" >Brewed Black tea</td>\n",
              "      <td id=\"T_31c31_row4_col1\" class=\"data row4 col1\" >11350</td>\n",
              "    </tr>\n",
              "    <tr>\n",
              "      <th id=\"T_31c31_level0_row5\" class=\"row_heading level0 row5\" >6</th>\n",
              "      <td id=\"T_31c31_row5_col0\" class=\"data row5 col0\" >Brewed herbal tea</td>\n",
              "      <td id=\"T_31c31_row5_col1\" class=\"data row5 col1\" >11245</td>\n",
              "    </tr>\n",
              "    <tr>\n",
              "      <th id=\"T_31c31_level0_row6\" class=\"row_heading level0 row6\" >27</th>\n",
              "      <td id=\"T_31c31_row6_col0\" class=\"data row6 col0\" >Scone</td>\n",
              "      <td id=\"T_31c31_row6_col1\" class=\"data row6 col1\" >10173</td>\n",
              "    </tr>\n",
              "    <tr>\n",
              "      <th id=\"T_31c31_level0_row7\" class=\"row_heading level0 row7\" >22</th>\n",
              "      <td id=\"T_31c31_row7_col0\" class=\"data row7 col0\" >Organic brewed coffee</td>\n",
              "      <td id=\"T_31c31_row7_col1\" class=\"data row7 col1\" >8489</td>\n",
              "    </tr>\n",
              "    <tr>\n",
              "      <th id=\"T_31c31_level0_row8\" class=\"row_heading level0 row8\" >10</th>\n",
              "      <td id=\"T_31c31_row8_col0\" class=\"data row8 col0\" >Drip coffee</td>\n",
              "      <td id=\"T_31c31_row8_col1\" class=\"data row8 col1\" >8477</td>\n",
              "    </tr>\n",
              "    <tr>\n",
              "      <th id=\"T_31c31_level0_row9\" class=\"row_heading level0 row9\" >25</th>\n",
              "      <td id=\"T_31c31_row9_col0\" class=\"data row9 col0\" >Premium brewed coffee</td>\n",
              "      <td id=\"T_31c31_row9_col1\" class=\"data row9 col1\" >8135</td>\n",
              "    </tr>\n",
              "  </tbody>\n",
              "</table>\n"
            ]
          },
          "metadata": {},
          "execution_count": 156
        }
      ]
    },
    {
      "cell_type": "markdown",
      "source": [
        "#Revenue Analysis"
      ],
      "metadata": {
        "id": "OztMyIEJ9n7i"
      }
    },
    {
      "cell_type": "markdown",
      "source": [
        "1- Monthly Revenue"
      ],
      "metadata": {
        "id": "JoPhOP3V9rAj"
      }
    },
    {
      "cell_type": "code",
      "source": [
        "monthly_revenue = coffee_df.groupby(['transaction_month', 'transaction_month_name'], as_index= False).agg(total_revenue = ('Total_Sales', 'sum')).sort_values('total_revenue', ascending= False)"
      ],
      "metadata": {
        "id": "OlHRpv3t9vjJ"
      },
      "execution_count": null,
      "outputs": []
    },
    {
      "cell_type": "code",
      "source": [
        "monthly_revenue_table = monthly_revenue.style.background_gradient(\n",
        "    subset=['total_revenue'],  cmap='autumn' )"
      ],
      "metadata": {
        "id": "dpZu-DYTXot7"
      },
      "execution_count": null,
      "outputs": []
    },
    {
      "cell_type": "code",
      "source": [
        "monthly_revenue_table"
      ],
      "metadata": {
        "colab": {
          "base_uri": "https://localhost:8080/",
          "height": 237
        },
        "id": "l7cDc8yQX0nu",
        "outputId": "5934d40b-0446-43d0-b130-8f8a519d0ee1"
      },
      "execution_count": null,
      "outputs": [
        {
          "output_type": "execute_result",
          "data": {
            "text/plain": [
              "<pandas.io.formats.style.Styler at 0x79a795114380>"
            ],
            "text/html": [
              "<style type=\"text/css\">\n",
              "#T_7c85d_row0_col2 {\n",
              "  background-color: #ffff00;\n",
              "  color: #000000;\n",
              "}\n",
              "#T_7c85d_row1_col2 {\n",
              "  background-color: #ffe400;\n",
              "  color: #000000;\n",
              "}\n",
              "#T_7c85d_row2_col2 {\n",
              "  background-color: #ff7900;\n",
              "  color: #f1f1f1;\n",
              "}\n",
              "#T_7c85d_row3_col2 {\n",
              "  background-color: #ff4000;\n",
              "  color: #f1f1f1;\n",
              "}\n",
              "#T_7c85d_row4_col2 {\n",
              "  background-color: #ff0f00;\n",
              "  color: #f1f1f1;\n",
              "}\n",
              "#T_7c85d_row5_col2 {\n",
              "  background-color: #ff0000;\n",
              "  color: #f1f1f1;\n",
              "}\n",
              "</style>\n",
              "<table id=\"T_7c85d\" class=\"dataframe\">\n",
              "  <thead>\n",
              "    <tr>\n",
              "      <th class=\"blank level0\" >&nbsp;</th>\n",
              "      <th id=\"T_7c85d_level0_col0\" class=\"col_heading level0 col0\" >transaction_month</th>\n",
              "      <th id=\"T_7c85d_level0_col1\" class=\"col_heading level0 col1\" >transaction_month_name</th>\n",
              "      <th id=\"T_7c85d_level0_col2\" class=\"col_heading level0 col2\" >total_revenue</th>\n",
              "    </tr>\n",
              "  </thead>\n",
              "  <tbody>\n",
              "    <tr>\n",
              "      <th id=\"T_7c85d_level0_row0\" class=\"row_heading level0 row0\" >5</th>\n",
              "      <td id=\"T_7c85d_row0_col0\" class=\"data row0 col0\" >6</td>\n",
              "      <td id=\"T_7c85d_row0_col1\" class=\"data row0 col1\" >June</td>\n",
              "      <td id=\"T_7c85d_row0_col2\" class=\"data row0 col2\" >166485.880000</td>\n",
              "    </tr>\n",
              "    <tr>\n",
              "      <th id=\"T_7c85d_level0_row1\" class=\"row_heading level0 row1\" >4</th>\n",
              "      <td id=\"T_7c85d_row1_col0\" class=\"data row1 col0\" >5</td>\n",
              "      <td id=\"T_7c85d_row1_col1\" class=\"data row1 col1\" >May</td>\n",
              "      <td id=\"T_7c85d_row1_col2\" class=\"data row1 col2\" >156727.760000</td>\n",
              "    </tr>\n",
              "    <tr>\n",
              "      <th id=\"T_7c85d_level0_row2\" class=\"row_heading level0 row2\" >3</th>\n",
              "      <td id=\"T_7c85d_row2_col0\" class=\"data row2 col0\" >4</td>\n",
              "      <td id=\"T_7c85d_row2_col1\" class=\"data row2 col1\" >April</td>\n",
              "      <td id=\"T_7c85d_row2_col2\" class=\"data row2 col2\" >118941.080000</td>\n",
              "    </tr>\n",
              "    <tr>\n",
              "      <th id=\"T_7c85d_level0_row3\" class=\"row_heading level0 row3\" >2</th>\n",
              "      <td id=\"T_7c85d_row3_col0\" class=\"data row3 col0\" >3</td>\n",
              "      <td id=\"T_7c85d_row3_col1\" class=\"data row3 col1\" >March</td>\n",
              "      <td id=\"T_7c85d_row3_col2\" class=\"data row3 col2\" >98834.680000</td>\n",
              "    </tr>\n",
              "    <tr>\n",
              "      <th id=\"T_7c85d_level0_row4\" class=\"row_heading level0 row4\" >0</th>\n",
              "      <td id=\"T_7c85d_row4_col0\" class=\"data row4 col0\" >1</td>\n",
              "      <td id=\"T_7c85d_row4_col1\" class=\"data row4 col1\" >January</td>\n",
              "      <td id=\"T_7c85d_row4_col2\" class=\"data row4 col2\" >81677.740000</td>\n",
              "    </tr>\n",
              "    <tr>\n",
              "      <th id=\"T_7c85d_level0_row5\" class=\"row_heading level0 row5\" >1</th>\n",
              "      <td id=\"T_7c85d_row5_col0\" class=\"data row5 col0\" >2</td>\n",
              "      <td id=\"T_7c85d_row5_col1\" class=\"data row5 col1\" >February</td>\n",
              "      <td id=\"T_7c85d_row5_col2\" class=\"data row5 col2\" >76145.190000</td>\n",
              "    </tr>\n",
              "  </tbody>\n",
              "</table>\n"
            ]
          },
          "metadata": {},
          "execution_count": 129
        }
      ]
    },
    {
      "cell_type": "code",
      "source": [
        "\n",
        "plt.bar(monthly_revenue['transaction_month_name'],monthly_revenue['total_revenue'], color = 'red')\n",
        "\n",
        "plt.xlabel('Months')\n",
        "plt.ylabel('Total_Sales')\n",
        "plt.title('Total Sales By Month')\n",
        "plt.xticks(rotation=60)\n",
        "\n",
        "plt.show()"
      ],
      "metadata": {
        "colab": {
          "base_uri": "https://localhost:8080/",
          "height": 518
        },
        "id": "UBP1wRO5UYJA",
        "outputId": "3c68262a-f06b-49b8-8e31-30ac25168f0a"
      },
      "execution_count": null,
      "outputs": [
        {
          "output_type": "display_data",
          "data": {
            "text/plain": [
              "<Figure size 640x480 with 1 Axes>"
            ],
            "image/png": "[encoded data removed]"
          },
          "metadata": {}
        }
      ]
    },
    {
      "cell_type": "markdown",
      "source": [
        "2- Top 10 Products by Revenue"
      ],
      "metadata": {
        "id": "cGGiaa1q__XX"
      }
    },
    {
      "cell_type": "code",
      "source": [
        "top_10_product_by_revenue = coffee_df.groupby(['product_type'], as_index= False).agg(\n",
        "    total_revenue = ('Total_Sales', 'sum')).sort_values('total_revenue', ascending= False).head(10)\n"
      ],
      "metadata": {
        "id": "dt0rquVWADv4"
      },
      "execution_count": null,
      "outputs": []
    },
    {
      "cell_type": "code",
      "source": [
        "top_10_product_by_revenue_table = top_10_product_by_revenue.style.background_gradient(\n",
        "    subset=['total_revenue'],  cmap='viridis' )"
      ],
      "metadata": {
        "id": "doVYAOKTavv1"
      },
      "execution_count": null,
      "outputs": []
    },
    {
      "cell_type": "code",
      "source": [
        "top_10_product_by_revenue_table"
      ],
      "metadata": {
        "colab": {
          "base_uri": "https://localhost:8080/",
          "height": 363
        },
        "id": "WUlEe1osa8Wc",
        "outputId": "c1e1833c-db64-4674-8601-47bc685ca071"
      },
      "execution_count": null,
      "outputs": [
        {
          "output_type": "execute_result",
          "data": {
            "text/plain": [
              "<pandas.io.formats.style.Styler at 0x79a797af9df0>"
            ],
            "text/html": [
              "<style type=\"text/css\">\n",
              "#T_b8b56_row0_col1 {\n",
              "  background-color: #fde725;\n",
              "  color: #000000;\n",
              "}\n",
              "#T_b8b56_row1_col1 {\n",
              "  background-color: #63cb5f;\n",
              "  color: #000000;\n",
              "}\n",
              "#T_b8b56_row2_col1 {\n",
              "  background-color: #3bbb75;\n",
              "  color: #f1f1f1;\n",
              "}\n",
              "#T_b8b56_row3_col1 {\n",
              "  background-color: #2cb17e;\n",
              "  color: #f1f1f1;\n",
              "}\n",
              "#T_b8b56_row4_col1 {\n",
              "  background-color: #39568c;\n",
              "  color: #f1f1f1;\n",
              "}\n",
              "#T_b8b56_row5_col1 {\n",
              "  background-color: #39558c;\n",
              "  color: #f1f1f1;\n",
              "}\n",
              "#T_b8b56_row6_col1 {\n",
              "  background-color: #482979;\n",
              "  color: #f1f1f1;\n",
              "}\n",
              "#T_b8b56_row7_col1 {\n",
              "  background-color: #482374;\n",
              "  color: #f1f1f1;\n",
              "}\n",
              "#T_b8b56_row8_col1 {\n",
              "  background-color: #481f70;\n",
              "  color: #f1f1f1;\n",
              "}\n",
              "#T_b8b56_row9_col1 {\n",
              "  background-color: #440154;\n",
              "  color: #f1f1f1;\n",
              "}\n",
              "</style>\n",
              "<table id=\"T_b8b56\" class=\"dataframe\">\n",
              "  <thead>\n",
              "    <tr>\n",
              "      <th class=\"blank level0\" >&nbsp;</th>\n",
              "      <th id=\"T_b8b56_level0_col0\" class=\"col_heading level0 col0\" >product_type</th>\n",
              "      <th id=\"T_b8b56_level0_col1\" class=\"col_heading level0 col1\" >total_revenue</th>\n",
              "    </tr>\n",
              "  </thead>\n",
              "  <tbody>\n",
              "    <tr>\n",
              "      <th id=\"T_b8b56_level0_row0\" class=\"row_heading level0 row0\" >0</th>\n",
              "      <td id=\"T_b8b56_row0_col0\" class=\"data row0 col0\" >Barista Espresso</td>\n",
              "      <td id=\"T_b8b56_row0_col1\" class=\"data row0 col1\" >91406.200000</td>\n",
              "    </tr>\n",
              "    <tr>\n",
              "      <th id=\"T_b8b56_level0_row1\" class=\"row_heading level0 row1\" >4</th>\n",
              "      <td id=\"T_b8b56_row1_col0\" class=\"data row1 col0\" >Brewed Chai tea</td>\n",
              "      <td id=\"T_b8b56_row1_col1\" class=\"data row1 col1\" >77081.950000</td>\n",
              "    </tr>\n",
              "    <tr>\n",
              "      <th id=\"T_b8b56_level0_row2\" class=\"row_heading level0 row2\" >17</th>\n",
              "      <td id=\"T_b8b56_row2_col0\" class=\"data row2 col0\" >Hot chocolate</td>\n",
              "      <td id=\"T_b8b56_row2_col1\" class=\"data row2 col1\" >72416.000000</td>\n",
              "    </tr>\n",
              "    <tr>\n",
              "      <th id=\"T_b8b56_level0_row3\" class=\"row_heading level0 row3\" >13</th>\n",
              "      <td id=\"T_b8b56_row3_col0\" class=\"data row3 col0\" >Gourmet brewed coffee</td>\n",
              "      <td id=\"T_b8b56_row3_col1\" class=\"data row3 col1\" >70034.600000</td>\n",
              "    </tr>\n",
              "    <tr>\n",
              "      <th id=\"T_b8b56_level0_row4\" class=\"row_heading level0 row4\" >3</th>\n",
              "      <td id=\"T_b8b56_row4_col0\" class=\"data row4 col0\" >Brewed Black tea</td>\n",
              "      <td id=\"T_b8b56_row4_col1\" class=\"data row4 col1\" >47932.000000</td>\n",
              "    </tr>\n",
              "    <tr>\n",
              "      <th id=\"T_b8b56_level0_row5\" class=\"row_heading level0 row5\" >6</th>\n",
              "      <td id=\"T_b8b56_row5_col0\" class=\"data row5 col0\" >Brewed herbal tea</td>\n",
              "      <td id=\"T_b8b56_row5_col1\" class=\"data row5 col1\" >47539.500000</td>\n",
              "    </tr>\n",
              "    <tr>\n",
              "      <th id=\"T_b8b56_level0_row6\" class=\"row_heading level0 row6\" >25</th>\n",
              "      <td id=\"T_b8b56_row6_col0\" class=\"data row6 col0\" >Premium brewed coffee</td>\n",
              "      <td id=\"T_b8b56_row6_col1\" class=\"data row6 col1\" >38781.150000</td>\n",
              "    </tr>\n",
              "    <tr>\n",
              "      <th id=\"T_b8b56_level0_row7\" class=\"row_heading level0 row7\" >22</th>\n",
              "      <td id=\"T_b8b56_row7_col0\" class=\"data row7 col0\" >Organic brewed coffee</td>\n",
              "      <td id=\"T_b8b56_row7_col1\" class=\"data row7 col1\" >37746.500000</td>\n",
              "    </tr>\n",
              "    <tr>\n",
              "      <th id=\"T_b8b56_level0_row8\" class=\"row_heading level0 row8\" >27</th>\n",
              "      <td id=\"T_b8b56_row8_col0\" class=\"data row8 col0\" >Scone</td>\n",
              "      <td id=\"T_b8b56_row8_col1\" class=\"data row8 col1\" >36866.120000</td>\n",
              "    </tr>\n",
              "    <tr>\n",
              "      <th id=\"T_b8b56_level0_row9\" class=\"row_heading level0 row9\" >10</th>\n",
              "      <td id=\"T_b8b56_row9_col0\" class=\"data row9 col0\" >Drip coffee</td>\n",
              "      <td id=\"T_b8b56_row9_col1\" class=\"data row9 col1\" >31984.000000</td>\n",
              "    </tr>\n",
              "  </tbody>\n",
              "</table>\n"
            ]
          },
          "metadata": {},
          "execution_count": 154
        }
      ]
    }
  ]
}